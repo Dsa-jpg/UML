{
 "cells": [
  {
   "cell_type": "code",
   "execution_count": 2,
   "id": "initial_id",
   "metadata": {
    "collapsed": true,
    "ExecuteTime": {
     "end_time": "2023-11-15T16:02:42.328093500Z",
     "start_time": "2023-11-15T16:02:42.307258500Z"
    }
   },
   "outputs": [],
   "source": [
    "import iplantuml\n"
   ]
  },
  {
   "cell_type": "code",
   "execution_count": null,
   "outputs": [],
   "source": [
    "%%plantuml \n",
    "\n",
    "@startuml\n",
    "Alice -> Bob: Authentication Request\n",
    "Bob --> Alice: Authentication Response\n",
    "@enduml "
   ],
   "metadata": {
    "collapsed": false
   },
   "id": "7d73aa0c7196b1ad"
  },
  {
   "cell_type": "code",
   "execution_count": 19,
   "outputs": [
    {
     "ename": "CalledProcessError",
     "evalue": "Command '['plantweb', '--format', 'auto', '8d836441-214d-4525-8792-c285f831cdb9.uml']' returned non-zero exit status 1.",
     "output_type": "error",
     "traceback": [
      "\u001B[1;31m---------------------------------------------------------------------------\u001B[0m",
      "\u001B[1;31mCalledProcessError\u001B[0m                        Traceback (most recent call last)",
      "Cell \u001B[1;32mIn[19], line 1\u001B[0m\n\u001B[1;32m----> 1\u001B[0m \u001B[43mget_ipython\u001B[49m\u001B[43m(\u001B[49m\u001B[43m)\u001B[49m\u001B[38;5;241;43m.\u001B[39;49m\u001B[43mrun_cell_magic\u001B[49m\u001B[43m(\u001B[49m\u001B[38;5;124;43m'\u001B[39;49m\u001B[38;5;124;43mplantuml\u001B[39;49m\u001B[38;5;124;43m'\u001B[39;49m\u001B[43m,\u001B[49m\u001B[43m \u001B[49m\u001B[38;5;124;43m'\u001B[39;49m\u001B[38;5;124;43m'\u001B[39;49m\u001B[43m,\u001B[49m\u001B[43m \u001B[49m\u001B[38;5;124;43m'\u001B[39;49m\u001B[38;5;124;43m@startuml\u001B[39;49m\u001B[38;5;130;43;01m\\n\u001B[39;49;00m\u001B[38;5;130;43;01m\\n\u001B[39;49;00m\u001B[38;5;124;43mleft to right direction\u001B[39;49m\u001B[38;5;130;43;01m\\n\u001B[39;49;00m\u001B[38;5;130;43;01m\\n\u001B[39;49;00m\u001B[38;5;124;43mactor \u001B[39;49m\u001B[38;5;124;43m\"\u001B[39;49m\u001B[38;5;124;43mNavstevnik\u001B[39;49m\u001B[38;5;124;43m\"\u001B[39;49m\u001B[38;5;124;43m as visitor\u001B[39;49m\u001B[38;5;130;43;01m\\n\u001B[39;49;00m\u001B[38;5;124;43mactor \u001B[39;49m\u001B[38;5;124;43m\"\u001B[39;49m\u001B[38;5;124;43mZamestnanec\u001B[39;49m\u001B[38;5;124;43m\"\u001B[39;49m\u001B[38;5;124;43m as employee\u001B[39;49m\u001B[38;5;130;43;01m\\n\u001B[39;49;00m\u001B[38;5;124;43mactor \u001B[39;49m\u001B[38;5;124;43m\"\u001B[39;49m\u001B[38;5;124;43mSystem monitorovani\u001B[39;49m\u001B[38;5;124;43m\"\u001B[39;49m\u001B[38;5;124;43m as monitoringSystem\u001B[39;49m\u001B[38;5;130;43;01m\\n\u001B[39;49;00m\u001B[38;5;130;43;01m\\n\u001B[39;49;00m\u001B[38;5;124;43musecase \u001B[39;49m\u001B[38;5;124;43m\"\u001B[39;49m\u001B[38;5;124;43mDetekce nebezpecneho chovani\u001B[39;49m\u001B[38;5;124;43m\"\u001B[39;49m\u001B[38;5;124;43m as detection\u001B[39;49m\u001B[38;5;130;43;01m\\n\u001B[39;49;00m\u001B[38;5;124;43musecase \u001B[39;49m\u001B[38;5;124;43m\"\u001B[39;49m\u001B[38;5;124;43mAutomaticka reakce na udalost\u001B[39;49m\u001B[38;5;124;43m\"\u001B[39;49m\u001B[38;5;124;43m as automaticReaction\u001B[39;49m\u001B[38;5;130;43;01m\\n\u001B[39;49;00m\u001B[38;5;124;43musecase \u001B[39;49m\u001B[38;5;124;43m\"\u001B[39;49m\u001B[38;5;124;43mManualni reakce na udalost\u001B[39;49m\u001B[38;5;124;43m\"\u001B[39;49m\u001B[38;5;124;43m as manualReaction\u001B[39;49m\u001B[38;5;130;43;01m\\n\u001B[39;49;00m\u001B[38;5;124;43musecase \u001B[39;49m\u001B[38;5;124;43m\"\u001B[39;49m\u001B[38;5;124;43mZasahovani zaměstnance\u001B[39;49m\u001B[38;5;124;43m\"\u001B[39;49m\u001B[38;5;124;43m as employeeIntervention\u001B[39;49m\u001B[38;5;130;43;01m\\n\u001B[39;49;00m\u001B[38;5;124;43musecase \u001B[39;49m\u001B[38;5;124;43m\"\u001B[39;49m\u001B[38;5;124;43mZasahovani systemu\u001B[39;49m\u001B[38;5;124;43m\"\u001B[39;49m\u001B[38;5;124;43m as systemIntervention\u001B[39;49m\u001B[38;5;130;43;01m\\n\u001B[39;49;00m\u001B[38;5;130;43;01m\\n\u001B[39;49;00m\u001B[38;5;124;43mvisitor --> detection : Iniciacni udalost\u001B[39;49m\u001B[38;5;130;43;01m\\n\u001B[39;49;00m\u001B[38;5;124;43mdetection --> automaticReaction : Automaticke\u001B[39;49m\u001B[38;5;130;43;01m\\n\u001B[39;49;00m\u001B[38;5;124;43mdetection --> manualReaction : Manualni\u001B[39;49m\u001B[38;5;130;43;01m\\n\u001B[39;49;00m\u001B[38;5;130;43;01m\\n\u001B[39;49;00m\u001B[38;5;124;43memployee --> manualReaction : Manualni\u001B[39;49m\u001B[38;5;130;43;01m\\n\u001B[39;49;00m\u001B[38;5;130;43;01m\\n\u001B[39;49;00m\u001B[38;5;124;43m@enduml\u001B[39;49m\u001B[38;5;130;43;01m\\n\u001B[39;49;00m\u001B[38;5;130;43;01m\\n\u001B[39;49;00m\u001B[38;5;130;43;01m\\n\u001B[39;49;00m\u001B[38;5;124;43m'\u001B[39;49m\u001B[43m)\u001B[49m\n",
      "File \u001B[1;32m~\\PycharmProjects\\UML\\venv\\lib\\site-packages\\IPython\\core\\interactiveshell.py:2493\u001B[0m, in \u001B[0;36mInteractiveShell.run_cell_magic\u001B[1;34m(self, magic_name, line, cell)\u001B[0m\n\u001B[0;32m   2491\u001B[0m \u001B[38;5;28;01mwith\u001B[39;00m \u001B[38;5;28mself\u001B[39m\u001B[38;5;241m.\u001B[39mbuiltin_trap:\n\u001B[0;32m   2492\u001B[0m     args \u001B[38;5;241m=\u001B[39m (magic_arg_s, cell)\n\u001B[1;32m-> 2493\u001B[0m     result \u001B[38;5;241m=\u001B[39m fn(\u001B[38;5;241m*\u001B[39margs, \u001B[38;5;241m*\u001B[39m\u001B[38;5;241m*\u001B[39mkwargs)\n\u001B[0;32m   2495\u001B[0m \u001B[38;5;66;03m# The code below prevents the output from being displayed\u001B[39;00m\n\u001B[0;32m   2496\u001B[0m \u001B[38;5;66;03m# when using magics with decorator @output_can_be_silenced\u001B[39;00m\n\u001B[0;32m   2497\u001B[0m \u001B[38;5;66;03m# when the last Python token in the expression is a ';'.\u001B[39;00m\n\u001B[0;32m   2498\u001B[0m \u001B[38;5;28;01mif\u001B[39;00m \u001B[38;5;28mgetattr\u001B[39m(fn, magic\u001B[38;5;241m.\u001B[39mMAGIC_OUTPUT_CAN_BE_SILENCED, \u001B[38;5;28;01mFalse\u001B[39;00m):\n",
      "File \u001B[1;32m~\\PycharmProjects\\UML\\venv\\lib\\site-packages\\iplantuml\\__init__.py:101\u001B[0m, in \u001B[0;36mplantuml\u001B[1;34m(line, cell)\u001B[0m\n\u001B[0;32m     99\u001B[0m output \u001B[38;5;241m=\u001B[39m \u001B[38;5;28;01mNone\u001B[39;00m\n\u001B[0;32m    100\u001B[0m \u001B[38;5;28;01mif\u001B[39;00m use_web:\n\u001B[1;32m--> 101\u001B[0m     output \u001B[38;5;241m=\u001B[39m \u001B[43mplantuml_web\u001B[49m\u001B[43m(\u001B[49m\u001B[43muml_path\u001B[49m\u001B[43m)\u001B[49m\n\u001B[0;32m    102\u001B[0m \u001B[38;5;28;01melse\u001B[39;00m:\n\u001B[0;32m    103\u001B[0m     plantuml_path \u001B[38;5;241m=\u001B[39m os\u001B[38;5;241m.\u001B[39mpath\u001B[38;5;241m.\u001B[39mabspath(args\u001B[38;5;241m.\u001B[39mplantuml_path \u001B[38;5;129;01mor\u001B[39;00m PLANTUMLPATH)\n",
      "File \u001B[1;32m~\\PycharmProjects\\UML\\venv\\lib\\site-packages\\iplantuml\\__init__.py:68\u001B[0m, in \u001B[0;36mplantuml_web\u001B[1;34m(*file_names, **kwargs)\u001B[0m\n\u001B[0;32m     57\u001B[0m \u001B[38;5;250m\u001B[39m\u001B[38;5;124;03m\"\"\"\u001B[39;00m\n\u001B[0;32m     58\u001B[0m \u001B[38;5;124;03mGiven a list of UML documents, generate corresponding SVG diagrams, using\u001B[39;00m\n\u001B[0;32m     59\u001B[0m \u001B[38;5;124;03mPlantUML's web service via the plantweb module.\u001B[39;00m\n\u001B[1;32m   (...)\u001B[0m\n\u001B[0;32m     62\u001B[0m \u001B[38;5;124;03m:return: the path to the generated SVG UML diagram.\u001B[39;00m\n\u001B[0;32m     63\u001B[0m \u001B[38;5;124;03m\"\"\"\u001B[39;00m\n\u001B[0;32m     64\u001B[0m cmd \u001B[38;5;241m=\u001B[39m [\u001B[38;5;124m\"\u001B[39m\u001B[38;5;124mplantweb\u001B[39m\u001B[38;5;124m\"\u001B[39m,\n\u001B[0;32m     65\u001B[0m        \u001B[38;5;124m\"\u001B[39m\u001B[38;5;124m--format\u001B[39m\u001B[38;5;124m\"\u001B[39m,\n\u001B[0;32m     66\u001B[0m        \u001B[38;5;124m\"\u001B[39m\u001B[38;5;124mauto\u001B[39m\u001B[38;5;124m\"\u001B[39m] \u001B[38;5;241m+\u001B[39m \u001B[38;5;28mlist\u001B[39m(file_names)\n\u001B[1;32m---> 68\u001B[0m \u001B[38;5;28;01mreturn\u001B[39;00m \u001B[43m_exec_and_get_paths\u001B[49m\u001B[43m(\u001B[49m\u001B[43mcmd\u001B[49m\u001B[43m,\u001B[49m\u001B[43m \u001B[49m\u001B[43mfile_names\u001B[49m\u001B[43m)\u001B[49m\n",
      "File \u001B[1;32m~\\PycharmProjects\\UML\\venv\\lib\\site-packages\\iplantuml\\__init__.py:32\u001B[0m, in \u001B[0;36m_exec_and_get_paths\u001B[1;34m(cmd, file_names)\u001B[0m\n\u001B[0;32m     31\u001B[0m \u001B[38;5;28;01mdef\u001B[39;00m \u001B[38;5;21m_exec_and_get_paths\u001B[39m(cmd, file_names):\n\u001B[1;32m---> 32\u001B[0m     \u001B[43msubprocess\u001B[49m\u001B[38;5;241;43m.\u001B[39;49m\u001B[43mcheck_call\u001B[49m\u001B[43m(\u001B[49m\u001B[43mcmd\u001B[49m\u001B[43m,\u001B[49m\u001B[43m \u001B[49m\u001B[43mshell\u001B[49m\u001B[38;5;241;43m=\u001B[39;49m\u001B[38;5;28;43;01mFalse\u001B[39;49;00m\u001B[43m,\u001B[49m\u001B[43m \u001B[49m\u001B[43mstderr\u001B[49m\u001B[38;5;241;43m=\u001B[39;49m\u001B[43msubprocess\u001B[49m\u001B[38;5;241;43m.\u001B[39;49m\u001B[43mSTDOUT\u001B[49m\u001B[43m)\u001B[49m\n\u001B[0;32m     34\u001B[0m     \u001B[38;5;28;01mreturn\u001B[39;00m [os\u001B[38;5;241m.\u001B[39mpath\u001B[38;5;241m.\u001B[39msplitext(f)[\u001B[38;5;241m0\u001B[39m] \u001B[38;5;241m+\u001B[39m \u001B[38;5;124m\"\u001B[39m\u001B[38;5;124m.svg\u001B[39m\u001B[38;5;124m\"\u001B[39m \u001B[38;5;28;01mfor\u001B[39;00m f \u001B[38;5;129;01min\u001B[39;00m file_names]\n",
      "File \u001B[1;32m~\\AppData\\Local\\Programs\\Python\\Python310\\lib\\subprocess.py:369\u001B[0m, in \u001B[0;36mcheck_call\u001B[1;34m(*popenargs, **kwargs)\u001B[0m\n\u001B[0;32m    367\u001B[0m     \u001B[38;5;28;01mif\u001B[39;00m cmd \u001B[38;5;129;01mis\u001B[39;00m \u001B[38;5;28;01mNone\u001B[39;00m:\n\u001B[0;32m    368\u001B[0m         cmd \u001B[38;5;241m=\u001B[39m popenargs[\u001B[38;5;241m0\u001B[39m]\n\u001B[1;32m--> 369\u001B[0m     \u001B[38;5;28;01mraise\u001B[39;00m CalledProcessError(retcode, cmd)\n\u001B[0;32m    370\u001B[0m \u001B[38;5;28;01mreturn\u001B[39;00m \u001B[38;5;241m0\u001B[39m\n",
      "\u001B[1;31mCalledProcessError\u001B[0m: Command '['plantweb', '--format', 'auto', '8d836441-214d-4525-8792-c285f831cdb9.uml']' returned non-zero exit status 1."
     ]
    }
   ],
   "source": [
    "%%plantuml\n",
    "@startuml\n",
    "\n",
    "left to right direction\n",
    "\n",
    "actor \"Navstevnik\" as visitor\n",
    "actor \"Zamestnanec\" as employee\n",
    "actor \"System monitorovani\" as monitoringSystem\n",
    "\n",
    "usecase \"Detekce nebezpecneho chovani\" as detection\n",
    "usecase \"Automaticka reakce na udalost\" as automaticReaction\n",
    "usecase \"Manualni reakce na udalost\" as manualReaction\n",
    "\n",
    "visitor --> detection : Iniciacni udalost\n",
    "detection --> automaticReaction : Automaticke\n",
    "detection --> manualReaction : Manualni\n",
    "\n",
    "employee --> manualReaction : Manualni\n",
    "\n",
    "@enduml\n",
    "\n"
   ],
   "metadata": {
    "collapsed": false,
    "ExecuteTime": {
     "end_time": "2023-11-15T13:24:05.764590500Z",
     "start_time": "2023-11-15T13:24:04.895559Z"
    }
   },
   "id": "a41e564daf6b29ce"
  },
  {
   "cell_type": "code",
   "execution_count": 20,
   "outputs": [
    {
     "data": {
      "text/plain": "<IPython.core.display.SVG object>",
      "image/svg+xml": "<svg xmlns=\"http://www.w3.org/2000/svg\" xmlns:xlink=\"http://www.w3.org/1999/xlink\" contentStyleType=\"text/css\" height=\"365px\" preserveAspectRatio=\"none\" style=\"width:1414px;height:365px;background:#FFFFFF;\" version=\"1.1\" viewBox=\"0 0 1414 365\" width=\"1414px\" zoomAndPan=\"magnify\"><defs/><g><!--entity visitor--><g id=\"elem_visitor\"><ellipse cx=\"83\" cy=\"125\" fill=\"#F1F1F1\" rx=\"8\" ry=\"8\" style=\"stroke:#181818;stroke-width:0.5;\"/><path d=\"M83,133 L83,160 M70,141 L96,141 M83,160 L70,175 M83,160 L96,175 \" fill=\"none\" style=\"stroke:#181818;stroke-width:0.5;\"/><text fill=\"#000000\" font-family=\"sans-serif\" font-size=\"14\" lengthAdjust=\"spacing\" textLength=\"79\" x=\"43.5\" y=\"189.4951\">Navstevnik</text></g><!--entity employee--><g id=\"elem_employee\"><ellipse cx=\"455\" cy=\"238\" fill=\"#F1F1F1\" rx=\"8\" ry=\"8\" style=\"stroke:#181818;stroke-width:0.5;\"/><path d=\"M455,246 L455,273 M442,254 L468,254 M455,273 L442,288 M455,273 L468,288 \" fill=\"none\" style=\"stroke:#181818;stroke-width:0.5;\"/><text fill=\"#000000\" font-family=\"sans-serif\" font-size=\"14\" lengthAdjust=\"spacing\" textLength=\"98\" x=\"406\" y=\"302.4951\">Zamestnanec</text></g><!--entity monitoringSystem--><g id=\"elem_monitoringSystem\"><ellipse cx=\"83\" cy=\"14\" fill=\"#F1F1F1\" rx=\"8\" ry=\"8\" style=\"stroke:#181818;stroke-width:0.5;\"/><path d=\"M83,22 L83,49 M70,30 L96,30 M83,49 L70,64 M83,49 L96,64 \" fill=\"none\" style=\"stroke:#181818;stroke-width:0.5;\"/><text fill=\"#000000\" font-family=\"sans-serif\" font-size=\"14\" lengthAdjust=\"spacing\" textLength=\"154\" x=\"6\" y=\"78.4951\">System monitorovani</text></g><g id=\"elem_detection\"><ellipse cx=\"455.0975\" cy=\"140.3195\" fill=\"#F1F1F1\" rx=\"132.0975\" ry=\"28.8195\" style=\"stroke:#181818;stroke-width:0.5;\"/><text fill=\"#000000\" font-family=\"sans-serif\" font-size=\"14\" lengthAdjust=\"spacing\" textLength=\"233\" x=\"338.5975\" y=\"143.1662\">Detekce nebezpecneho chovani</text></g><g id=\"elem_automaticReaction\"><ellipse cx=\"903.8908\" cy=\"124.2782\" fill=\"#F1F1F1\" rx=\"126.8908\" ry=\"27.7782\" style=\"stroke:#181818;stroke-width:0.5;\"/><text fill=\"#000000\" font-family=\"sans-serif\" font-size=\"14\" lengthAdjust=\"spacing\" textLength=\"222\" x=\"792.8908\" y=\"127.1248\">Automaticka reakce na udalost</text></g><g id=\"elem_manualReaction\"><ellipse cx=\"903.8359\" cy=\"334.4672\" fill=\"#F1F1F1\" rx=\"112.8359\" ry=\"24.9672\" style=\"stroke:#181818;stroke-width:0.5;\"/><text fill=\"#000000\" font-family=\"sans-serif\" font-size=\"14\" lengthAdjust=\"spacing\" textLength=\"192\" x=\"807.8359\" y=\"337.3139\">Manualni reakce na udalost</text></g><g id=\"elem_employeeIntervention\"><ellipse cx=\"1301.2877\" cy=\"259.3575\" fill=\"#F1F1F1\" rx=\"107.2877\" ry=\"23.8575\" style=\"stroke:#181818;stroke-width:0.5;\"/><text fill=\"#000000\" font-family=\"sans-serif\" font-size=\"14\" lengthAdjust=\"spacing\" textLength=\"180\" x=\"1211.2877\" y=\"262.2042\">Zasahovani zamestnance</text></g><g id=\"elem_systemIntervention\"><ellipse cx=\"1301.4996\" cy=\"74.5999\" fill=\"#F1F1F1\" rx=\"90.9996\" ry=\"20.5999\" style=\"stroke:#181818;stroke-width:0.5;\"/><text fill=\"#000000\" font-family=\"sans-serif\" font-size=\"14\" lengthAdjust=\"spacing\" textLength=\"144\" x=\"1229.4996\" y=\"77.4466\">Zasahovani systemu</text></g><!--link visitor to detection--><g id=\"link_visitor_detection\"><path d=\"M122.535,154.257 C164.483,153.877 233.531,152.915 293,150.5 C304.473,150.034 310.4084,149.7791 322.3514,149.1451 \" fill=\"none\" id=\"visitor-to-detection\" style=\"stroke:#181818;stroke-width:1.0;\"/><polygon fill=\"#181818\" points=\"328.343,148.827,319.1436,145.3097,323.35,149.0921,319.5677,153.2985,328.343,148.827\" style=\"stroke:#181818;stroke-width:1.0;\"/><text fill=\"#000000\" font-family=\"sans-serif\" font-size=\"13\" lengthAdjust=\"spacing\" textLength=\"101\" x=\"191\" y=\"146.5669\">Iniciacni udalost</text></g><!--link detection to automaticReaction--><g id=\"link_detection_automaticReaction\"><path d=\"M585.591,135.861 C646.305,133.688 712.3228,131.3257 772.3968,129.1747 \" fill=\"none\" id=\"detection-to-automaticReaction\" style=\"stroke:#181818;stroke-width:1.0;\"/><polygon fill=\"#181818\" points=\"778.393,128.96,769.2556,125.2846,773.3962,129.1389,769.5419,133.2795,778.393,128.96\" style=\"stroke:#181818;stroke-width:1.0;\"/><text fill=\"#000000\" font-family=\"sans-serif\" font-size=\"13\" lengthAdjust=\"spacing\" textLength=\"81\" x=\"641.5\" y=\"125.5669\">Automaticke</text></g><!--link detection to manualReaction--><g id=\"link_detection_manualReaction\"><path d=\"M517.165,166.097 C576.338,191.119 668.362,230.711 747,267.5 C760.503,273.8168 763.435,276.3192 777,282.5 C799.934,292.9496 820.0342,301.4461 842.1822,310.4437 \" fill=\"none\" id=\"detection-to-manualReaction\" style=\"stroke:#181818;stroke-width:1.0;\"/><polygon fill=\"#181818\" points=\"847.741,312.702,840.9083,305.6087,843.1087,310.8201,837.8973,313.0205,847.741,312.702\" style=\"stroke:#181818;stroke-width:1.0;\"/><text fill=\"#000000\" font-family=\"sans-serif\" font-size=\"13\" lengthAdjust=\"spacing\" textLength=\"56\" x=\"654\" y=\"205.5669\">Manualni</text></g><!--link automaticReaction to systemIntervention--><g id=\"link_automaticReaction_systemIntervention\"><path d=\"M1014.64,110.639 C1080.37,102.33 1156.4574,92.7094 1215.7774,85.2114 \" fill=\"none\" id=\"automaticReaction-to-systemIntervention\" style=\"stroke:#181818;stroke-width:1.0;\"/><polygon fill=\"#181818\" points=\"1221.73,84.459,1212.2994,81.6192,1216.7695,85.086,1213.3027,89.556,1221.73,84.459\" style=\"stroke:#181818;stroke-width:1.0;\"/><text fill=\"#000000\" font-family=\"sans-serif\" font-size=\"13\" lengthAdjust=\"spacing\" textLength=\"60\" x=\"1082.5\" y=\"88.5669\">Potvrzeni</text></g><!--link manualReaction to employeeIntervention--><g id=\"link_manualReaction_employeeIntervention\"><path d=\"M990.331,318.3185 C1058.11,305.4643 1146.3951,288.7239 1213.1451,276.0655 \" fill=\"none\" id=\"manualReaction-to-employeeIntervention\" style=\"stroke:#181818;stroke-width:1.0;\"/><polygon fill=\"#181818\" points=\"1219.04,274.9476,1209.4523,272.6945,1214.1276,275.8792,1210.9429,280.5544,1219.04,274.9476\" style=\"stroke:#181818;stroke-width:1.0;\"/><text fill=\"#000000\" font-family=\"sans-serif\" font-size=\"13\" lengthAdjust=\"spacing\" textLength=\"101\" x=\"1062\" y=\"281.5669\">Vyzaduje zasah</text></g><!--link employee to manualReaction--><g id=\"link_employee_manualReaction\"><path d=\"M504.262,274.7338 C577.179,285.6633 710.8533,305.6994 803.9863,319.659 \" fill=\"none\" id=\"employee-to-manualReaction\" style=\"stroke:#181818;stroke-width:1.0;\"/><polygon fill=\"#181818\" points=\"809.92,320.5484,801.6124,315.2585,804.9752,319.8072,800.4265,323.1701,809.92,320.5484\" style=\"stroke:#181818;stroke-width:1.0;\"/><text fill=\"#000000\" font-family=\"sans-serif\" font-size=\"13\" lengthAdjust=\"spacing\" textLength=\"56\" x=\"654\" y=\"288.5669\">Manualni</text></g><!--link employee to employeeIntervention--><g id=\"link_employee_employeeIntervention\"><path d=\"M504.23,266.996 C606.729,265.9307 853.817,263.3924 1061,261.5 C1104.45,261.1031 1146.3402,260.7465 1187.7902,260.4048 \" fill=\"none\" id=\"employee-to-employeeIntervention\" style=\"stroke:#181818;stroke-width:1.0;\"/><polygon fill=\"#181818\" points=\"1193.79,260.3553,1184.7573,256.4296,1188.7902,260.3965,1184.8233,264.4294,1193.79,260.3553\" style=\"stroke:#181818;stroke-width:1.0;\"/><text fill=\"#000000\" font-family=\"sans-serif\" font-size=\"13\" lengthAdjust=\"spacing\" textLength=\"55\" x=\"876.5\" y=\"257.5669\">Vyvolani</text></g><!--link monitoringSystem to detection--><g id=\"link_monitoringSystem_detection\"><path d=\"M160.115,76.314 C170.069,80.031 180.21,83.54 190,86.5 C241.274,102 293.5942,113.346 342.2902,122.359 \" fill=\"none\" id=\"monitoringSystem-to-detection\" style=\"stroke:#181818;stroke-width:1.0;\"/><polygon fill=\"#181818\" points=\"348.19,123.451,340.0683,117.8798,343.2735,122.541,338.6123,125.7462,348.19,123.451\" style=\"stroke:#181818;stroke-width:1.0;\"/><text fill=\"#000000\" font-family=\"sans-serif\" font-size=\"13\" lengthAdjust=\"spacing\" textLength=\"82\" x=\"200.5\" y=\"82.5669\">Monitorovani</text></g><!--link monitoringSystem to systemIntervention--><g id=\"link_monitoringSystem_systemIntervention\"><path d=\"M160.296,44.435 C336.904,46.766 787.52,53.666 1164,67.5 C1179.77,68.079 1190.5672,68.5365 1206.7772,69.3305 \" fill=\"none\" id=\"monitoringSystem-to-systemIntervention\" style=\"stroke:#181818;stroke-width:1.0;\"/><polygon fill=\"#181818\" points=\"1212.77,69.624,1203.9765,65.1885,1207.776,69.3794,1203.5851,73.1789,1212.77,69.624\" style=\"stroke:#181818;stroke-width:1.0;\"/><text fill=\"#000000\" font-family=\"sans-serif\" font-size=\"13\" lengthAdjust=\"spacing\" textLength=\"128\" x=\"618\" y=\"48.5669\">Automaticka reakce</text></g><!--SRC=[XPB1JiCm38RlUGfhzxq01oGaBZiC8P0ux6RIdpMiTQR6ZRG-FMcwKjfkuXR5tsVPlrpXIqazDUvOAXMkWLNdnHYswXlQl70CYYZkj24E55rmwN-i7hX6K661pMNKvyfVWB7-VaboJRMNtlAHnMNk-k7aE136j06M0sZp3CN9WWIVwCwmWjAJBIUtIC0muw_prAglMPqzCJNWh3Er1LS-Q9Pu9Dx02tdFqd8bxevPv_9QEt3WOIhgnXGiPYdiHD54o5qnvENRB0tlcMAkQTDs-pYjJG-q4sSTszJXEgcPgZsxsZOvKqPOqFCD4pecOjPzUduzQN9UlSQcGv8MxNhZLY39-RXqNBJVI06cI8mPiN-ccc5tMqTVfOYDMPxQAipzd-EyJTzSU7rpFm00]--></g></svg>"
     },
     "execution_count": 20,
     "metadata": {},
     "output_type": "execute_result"
    }
   ],
   "source": [
    "%%plantuml\n",
    "@startuml\n",
    "\n",
    "left to right direction\n",
    "\n",
    "actor \"Navstevnik\" as visitor\n",
    "actor \"Zamestnanec\" as employee\n",
    "actor \"System monitorovani\" as monitoringSystem\n",
    "\n",
    "usecase \"Detekce nebezpecneho chovani\" as detection\n",
    "usecase \"Automaticka reakce na udalost\" as automaticReaction\n",
    "usecase \"Manualni reakce na udalost\" as manualReaction\n",
    "usecase \"Zasahovani zamestnance\" as employeeIntervention\n",
    "usecase \"Zasahovani systemu\" as systemIntervention\n",
    "\n",
    "visitor --> detection : Iniciacni udalost\n",
    "detection --> automaticReaction : Automaticke\n",
    "detection --> manualReaction : Manualni\n",
    "automaticReaction --> systemIntervention : Potvrzeni\n",
    "manualReaction --> employeeIntervention : Vyzaduje zasah\n",
    "\n",
    "employee --> manualReaction : Manualni\n",
    "employee --> employeeIntervention : Vyvolani\n",
    "\n",
    "monitoringSystem --> detection : Monitorovani\n",
    "monitoringSystem --> systemIntervention : Automaticka reakce\n",
    "\n",
    "@enduml\n",
    "\n"
   ],
   "metadata": {
    "collapsed": false,
    "ExecuteTime": {
     "end_time": "2023-11-15T13:24:33.174971500Z",
     "start_time": "2023-11-15T13:24:30.388503200Z"
    }
   },
   "id": "6de298f3058f0c27"
  },
  {
   "cell_type": "code",
   "execution_count": 21,
   "outputs": [
    {
     "data": {
      "text/plain": "<IPython.core.display.SVG object>",
      "image/svg+xml": "<svg xmlns=\"http://www.w3.org/2000/svg\" xmlns:xlink=\"http://www.w3.org/1999/xlink\" contentStyleType=\"text/css\" height=\"290px\" preserveAspectRatio=\"none\" style=\"width:914px;height:290px;background:#FFFFFF;\" version=\"1.1\" viewBox=\"0 0 914 290\" width=\"914px\" zoomAndPan=\"magnify\"><defs/><g><!--entity Visitor--><g id=\"elem_Visitor\"><ellipse cx=\"45.5\" cy=\"116\" fill=\"#F1F1F1\" rx=\"8\" ry=\"8\" style=\"stroke:#181818;stroke-width:0.5;\"/><path d=\"M45.5,124 L45.5,151 M32.5,132 L58.5,132 M45.5,151 L32.5,166 M45.5,151 L58.5,166 \" fill=\"none\" style=\"stroke:#181818;stroke-width:0.5;\"/><text fill=\"#000000\" font-family=\"sans-serif\" font-size=\"14\" lengthAdjust=\"spacing\" textLength=\"79\" x=\"6\" y=\"180.4951\">Navstevnik</text></g><!--entity Employee--><g id=\"elem_Employee\"><ellipse cx=\"380\" cy=\"218\" fill=\"#F1F1F1\" rx=\"8\" ry=\"8\" style=\"stroke:#181818;stroke-width:0.5;\"/><path d=\"M380,226 L380,253 M367,234 L393,234 M380,253 L367,268 M380,253 L393,268 \" fill=\"none\" style=\"stroke:#181818;stroke-width:0.5;\"/><text fill=\"#000000\" font-family=\"sans-serif\" font-size=\"14\" lengthAdjust=\"spacing\" textLength=\"98\" x=\"331\" y=\"282.4951\">Zamestnanec</text></g><!--entity MonitoringSystem--><g id=\"elem_MonitoringSystem\"><ellipse cx=\"380\" cy=\"14\" fill=\"#F1F1F1\" rx=\"8\" ry=\"8\" style=\"stroke:#181818;stroke-width:0.5;\"/><path d=\"M380,22 L380,49 M367,30 L393,30 M380,49 L367,64 M380,49 L393,64 \" fill=\"none\" style=\"stroke:#181818;stroke-width:0.5;\"/><text fill=\"#000000\" font-family=\"sans-serif\" font-size=\"14\" lengthAdjust=\"spacing\" textLength=\"154\" x=\"303\" y=\"78.4951\">System monitorovani</text></g><g id=\"elem_Detection\"><ellipse cx=\"380.0975\" cy=\"145.3195\" fill=\"#F1F1F1\" rx=\"132.0975\" ry=\"28.8195\" style=\"stroke:#181818;stroke-width:0.5;\"/><text fill=\"#000000\" font-family=\"sans-serif\" font-size=\"14\" lengthAdjust=\"spacing\" textLength=\"233\" x=\"263.5975\" y=\"148.1662\">Detekce nebezpecneho chovani</text></g><g id=\"elem_AutomaticResponse\"><ellipse cx=\"781.8908\" cy=\"89.2782\" fill=\"#F1F1F1\" rx=\"126.8908\" ry=\"27.7782\" style=\"stroke:#181818;stroke-width:0.5;\"/><text fill=\"#000000\" font-family=\"sans-serif\" font-size=\"14\" lengthAdjust=\"spacing\" textLength=\"222\" x=\"670.8908\" y=\"92.1248\">Automaticka reakce na udalost</text></g><g id=\"elem_ManualResponse\"><ellipse cx=\"781.8359\" cy=\"202.4672\" fill=\"#F1F1F1\" rx=\"112.8359\" ry=\"24.9672\" style=\"stroke:#181818;stroke-width:0.5;\"/><text fill=\"#000000\" font-family=\"sans-serif\" font-size=\"14\" lengthAdjust=\"spacing\" textLength=\"192\" x=\"685.8359\" y=\"205.3139\">Manualni reakce na udalost</text></g><!--link Visitor to Detection--><g id=\"link_Visitor_Detection\"><path d=\"M85.2927,145.5 C125.208,145.5 183.619,145.5 241.966,145.5 \" fill=\"none\" id=\"Visitor-to-Detection\" style=\"stroke:#181818;stroke-width:1.0;\"/><polygon fill=\"#181818\" points=\"247.966,145.5,238.966,141.5,242.966,145.5,238.966,149.5,247.966,145.5\" style=\"stroke:#181818;stroke-width:1.0;\"/><text fill=\"#000000\" font-family=\"sans-serif\" font-size=\"13\" lengthAdjust=\"spacing\" textLength=\"101\" x=\"116\" y=\"141.5669\">Iniciacni udalost</text></g><!--link Detection to AutomaticResponse--><g id=\"link_Detection_AutomaticResponse\"><path d=\"M491.626,130.012 C548.623,122.033 611.8699,113.1779 668.2999,105.2779 \" fill=\"none\" id=\"Detection-to-AutomaticResponse\" style=\"stroke:#181818;stroke-width:1.0;\"/><polygon fill=\"#181818\" points=\"674.242,104.446,664.7743,101.7324,669.2903,105.1392,665.8835,109.6552,674.242,104.446\" style=\"stroke:#181818;stroke-width:1.0;\"/><text fill=\"#000000\" font-family=\"sans-serif\" font-size=\"13\" lengthAdjust=\"spacing\" textLength=\"81\" x=\"543\" y=\"108.5669\">Automaticke</text></g><!--link Detection to ManualResponse--><g id=\"link_Detection_ManualResponse\"><path d=\"M491.096,161.189 C552.38,169.922 621.948,179.8345 680.537,188.184 \" fill=\"none\" id=\"Detection-to-ManualResponse\" style=\"stroke:#181818;stroke-width:1.0;\"/><polygon fill=\"#181818\" points=\"686.477,189.0305,678.1314,183.8008,681.527,188.3251,677.0027,191.7207,686.477,189.0305\" style=\"stroke:#181818;stroke-width:1.0;\"/><text fill=\"#000000\" font-family=\"sans-serif\" font-size=\"13\" lengthAdjust=\"spacing\" textLength=\"56\" x=\"555.5\" y=\"164.5669\">Manualni</text></g><!--link Employee to ManualResponse--><g id=\"link_Employee_ManualResponse\"><path d=\"M429.397,249.4334 C478.809,250.6768 557.607,250.6388 625,241.5 C654.738,237.4673 681.2145,231.5013 708.6475,224.1306 \" fill=\"none\" id=\"Employee-to-ManualResponse\" style=\"stroke:#181818;stroke-width:1.0;\"/><polygon fill=\"#181818\" points=\"714.442,222.5737,704.7123,221.046,709.6133,223.8711,706.7882,228.772,714.442,222.5737\" style=\"stroke:#181818;stroke-width:1.0;\"/><text fill=\"#000000\" font-family=\"sans-serif\" font-size=\"13\" lengthAdjust=\"spacing\" textLength=\"56\" x=\"555.5\" y=\"237.5669\">Manualni</text></g><!--link MonitoringSystem to AutomaticResponse--><g id=\"link_MonitoringSystem_AutomaticResponse\"><path d=\"M457.178,52.261 C517.133,59.155 595.6023,68.1795 663.2193,75.9555 \" fill=\"none\" id=\"MonitoringSystem-to-AutomaticResponse\" style=\"stroke:#181818;stroke-width:1.0;\"/><polygon fill=\"#181818\" points=\"669.18,76.641,660.6959,71.639,664.2127,76.0698,659.7819,79.5866,669.18,76.641\" style=\"stroke:#181818;stroke-width:1.0;\"/><text fill=\"#000000\" font-family=\"sans-serif\" font-size=\"13\" lengthAdjust=\"spacing\" textLength=\"81\" x=\"543\" y=\"58.5669\">Automaticke</text></g><!--SRC=[ZP2nJiD038RtUmehUr-00Gc93Wnb08c1pRYciPApevmJgJnzBqcJ4qK8Ll_VT_VhR_dJmGrwETKEH-cPN4n3G7BheNh6CJcFAaq5cE1DakJxchvZvEIAoZJ7-zYrTcPUyzTpbYD4qyco4LLcxh0SH4yB4SAGc30nL8_it123yWT_TKpAjG7LnPs0fUFcF0nk4LseGUWPPnrXE69hoMTf8ruuTQQ9Ytn07R1L-SLSuaqBrmLWjxilLU0EdbH8aF8xLpkKT69_DCXEwSqtzFTVCxgs3El4Vs2t2_-dmmK0]--></g></svg>"
     },
     "execution_count": 21,
     "metadata": {},
     "output_type": "execute_result"
    }
   ],
   "source": [
    "%%plantuml\n",
    "@startuml\n",
    "\n",
    "left to right direction\n",
    "\n",
    "actor \"Navstevnik\" as Visitor\n",
    "actor \"Zamestnanec\" as Employee\n",
    "actor \"System monitorovani\" as MonitoringSystem\n",
    "\n",
    "usecase \"Detekce nebezpecneho chovani\" as Detection\n",
    "usecase \"Automaticka reakce na udalost\" as AutomaticResponse\n",
    "usecase \"Manualni reakce na udalost\" as ManualResponse\n",
    "\n",
    "Visitor --> Detection : Iniciacni udalost\n",
    "Detection --> AutomaticResponse : Automaticke\n",
    "Detection --> ManualResponse : Manualni\n",
    "Employee --> ManualResponse : Manualni\n",
    "MonitoringSystem --> AutomaticResponse : Automaticke\n",
    "\n",
    "@enduml\n"
   ],
   "metadata": {
    "collapsed": false,
    "ExecuteTime": {
     "end_time": "2023-11-15T13:29:01.858297400Z",
     "start_time": "2023-11-15T13:28:58.781558400Z"
    }
   },
   "id": "779cc14801dd2c39"
  },
  {
   "cell_type": "code",
   "execution_count": 8,
   "outputs": [
    {
     "data": {
      "text/plain": "<IPython.core.display.SVG object>",
      "image/svg+xml": "<svg xmlns=\"http://www.w3.org/2000/svg\" xmlns:xlink=\"http://www.w3.org/1999/xlink\" contentStyleType=\"text/css\" height=\"453px\" preserveAspectRatio=\"none\" style=\"width:533px;height:453px;background:#FFFFFF;\" version=\"1.1\" viewBox=\"0 0 533 453\" width=\"533px\" zoomAndPan=\"magnify\"><defs/><g><!--class Rozvrh--><g id=\"elem_Rozvrh\"><rect codeLine=\"1\" fill=\"#F1F1F1\" height=\"64.2969\" id=\"Rozvrh\" rx=\"2.5\" ry=\"2.5\" style=\"stroke:#181818;stroke-width:0.5;\" width=\"108\" x=\"171\" y=\"382\"/><ellipse cx=\"197.7\" cy=\"398\" fill=\"#ADD1B2\" rx=\"11\" ry=\"11\" style=\"stroke:#181818;stroke-width:1.0;\"/><path d=\"M200.0438,393.6719 C199.1063,393.2344 198.5125,393.0938 197.6375,393.0938 C195.0125,393.0938 193.0125,395.1719 193.0125,397.8906 L193.0125,399.0156 C193.0125,401.5938 195.1219,403.4844 198.0125,403.4844 C199.2313,403.4844 200.3875,403.1875 201.1375,402.6406 C201.7156,402.2344 202.0438,401.7813 202.0438,401.3906 C202.0438,400.9375 201.6531,400.5469 201.1844,400.5469 C200.9656,400.5469 200.7625,400.625 200.575,400.8125 C200.1219,401.2969 200.1219,401.2969 199.9344,401.3906 C199.5125,401.6563 198.825,401.7813 198.0594,401.7813 C196.0125,401.7813 194.7156,400.6875 194.7156,398.9844 L194.7156,397.8906 C194.7156,396.1094 195.9656,394.7969 197.7,394.7969 C198.2781,394.7969 198.8875,394.9531 199.3563,395.2031 C199.8406,395.4844 200.0125,395.7031 200.1063,396.1094 C200.1688,396.5156 200.2,396.6406 200.3406,396.7656 C200.4813,396.9063 200.7156,397.0156 200.9344,397.0156 C201.2,397.0156 201.4656,396.875 201.6375,396.6563 C201.7469,396.5 201.7781,396.3125 201.7781,395.8906 L201.7781,394.4688 C201.7781,394.0313 201.7625,393.9063 201.6688,393.75 C201.5125,393.4844 201.2313,393.3438 200.9344,393.3438 C200.6375,393.3438 200.4344,393.4375 200.2156,393.75 L200.0438,393.6719 Z \" fill=\"#000000\"/><text fill=\"#000000\" font-family=\"sans-serif\" font-size=\"14\" lengthAdjust=\"spacing\" textLength=\"50\" x=\"214.3\" y=\"402.8467\">Rozvrh</text><line style=\"stroke:#181818;stroke-width:0.5;\" x1=\"172\" x2=\"278\" y1=\"414\" y2=\"414\"/><ellipse cx=\"182\" cy=\"427.6484\" fill=\"none\" rx=\"3\" ry=\"3\" style=\"stroke:#038048;stroke-width:1.0;\"/><text fill=\"#000000\" font-family=\"sans-serif\" font-size=\"14\" lengthAdjust=\"spacing\" textLength=\"82\" x=\"191\" y=\"430.9951\">String time</text><line style=\"stroke:#181818;stroke-width:0.5;\" x1=\"172\" x2=\"278\" y1=\"438.2969\" y2=\"438.2969\"/></g><!--class Prisoner--><g id=\"elem_Prisoner\"><rect fill=\"#F1F1F1\" height=\"48\" id=\"Prisoner\" rx=\"2.5\" ry=\"2.5\" style=\"stroke:#181818;stroke-width:0.5;\" width=\"91\" x=\"107.5\" y=\"257\"/><ellipse cx=\"122.5\" cy=\"273\" fill=\"#ADD1B2\" rx=\"11\" ry=\"11\" style=\"stroke:#181818;stroke-width:1.0;\"/><path d=\"M124.8438,268.6719 C123.9063,268.2344 123.3125,268.0938 122.4375,268.0938 C119.8125,268.0938 117.8125,270.1719 117.8125,272.8906 L117.8125,274.0156 C117.8125,276.5938 119.9219,278.4844 122.8125,278.4844 C124.0313,278.4844 125.1875,278.1875 125.9375,277.6406 C126.5156,277.2344 126.8438,276.7813 126.8438,276.3906 C126.8438,275.9375 126.4531,275.5469 125.9844,275.5469 C125.7656,275.5469 125.5625,275.625 125.375,275.8125 C124.9219,276.2969 124.9219,276.2969 124.7344,276.3906 C124.3125,276.6563 123.625,276.7813 122.8594,276.7813 C120.8125,276.7813 119.5156,275.6875 119.5156,273.9844 L119.5156,272.8906 C119.5156,271.1094 120.7656,269.7969 122.5,269.7969 C123.0781,269.7969 123.6875,269.9531 124.1563,270.2031 C124.6406,270.4844 124.8125,270.7031 124.9063,271.1094 C124.9688,271.5156 125,271.6406 125.1406,271.7656 C125.2813,271.9063 125.5156,272.0156 125.7344,272.0156 C126,272.0156 126.2656,271.875 126.4375,271.6563 C126.5469,271.5 126.5781,271.3125 126.5781,270.8906 L126.5781,269.4688 C126.5781,269.0313 126.5625,268.9063 126.4688,268.75 C126.3125,268.4844 126.0313,268.3438 125.7344,268.3438 C125.4375,268.3438 125.2344,268.4375 125.0156,268.75 L124.8438,268.6719 Z \" fill=\"#000000\"/><text fill=\"#000000\" font-family=\"sans-serif\" font-size=\"14\" lengthAdjust=\"spacing\" textLength=\"59\" x=\"136.5\" y=\"277.8467\">Prisoner</text><line style=\"stroke:#181818;stroke-width:0.5;\" x1=\"108.5\" x2=\"197.5\" y1=\"289\" y2=\"289\"/><line style=\"stroke:#181818;stroke-width:0.5;\" x1=\"108.5\" x2=\"197.5\" y1=\"297\" y2=\"297\"/></g><!--class VykonTrestu--><g id=\"elem_VykonTrestu\"><rect fill=\"#F1F1F1\" height=\"48\" id=\"VykonTrestu\" rx=\"2.5\" ry=\"2.5\" style=\"stroke:#181818;stroke-width:0.5;\" width=\"123\" x=\"86.5\" y=\"132\"/><ellipse cx=\"101.5\" cy=\"148\" fill=\"#ADD1B2\" rx=\"11\" ry=\"11\" style=\"stroke:#181818;stroke-width:1.0;\"/><path d=\"M103.8438,143.6719 C102.9063,143.2344 102.3125,143.0938 101.4375,143.0938 C98.8125,143.0938 96.8125,145.1719 96.8125,147.8906 L96.8125,149.0156 C96.8125,151.5938 98.9219,153.4844 101.8125,153.4844 C103.0313,153.4844 104.1875,153.1875 104.9375,152.6406 C105.5156,152.2344 105.8438,151.7813 105.8438,151.3906 C105.8438,150.9375 105.4531,150.5469 104.9844,150.5469 C104.7656,150.5469 104.5625,150.625 104.375,150.8125 C103.9219,151.2969 103.9219,151.2969 103.7344,151.3906 C103.3125,151.6563 102.625,151.7813 101.8594,151.7813 C99.8125,151.7813 98.5156,150.6875 98.5156,148.9844 L98.5156,147.8906 C98.5156,146.1094 99.7656,144.7969 101.5,144.7969 C102.0781,144.7969 102.6875,144.9531 103.1563,145.2031 C103.6406,145.4844 103.8125,145.7031 103.9063,146.1094 C103.9688,146.5156 104,146.6406 104.1406,146.7656 C104.2813,146.9063 104.5156,147.0156 104.7344,147.0156 C105,147.0156 105.2656,146.875 105.4375,146.6563 C105.5469,146.5 105.5781,146.3125 105.5781,145.8906 L105.5781,144.4688 C105.5781,144.0313 105.5625,143.9063 105.4688,143.75 C105.3125,143.4844 105.0313,143.3438 104.7344,143.3438 C104.4375,143.3438 104.2344,143.4375 104.0156,143.75 L103.8438,143.6719 Z \" fill=\"#000000\"/><text fill=\"#000000\" font-family=\"sans-serif\" font-size=\"14\" lengthAdjust=\"spacing\" textLength=\"91\" x=\"115.5\" y=\"152.8467\">VykonTrestu</text><line style=\"stroke:#181818;stroke-width:0.5;\" x1=\"87.5\" x2=\"208.5\" y1=\"164\" y2=\"164\"/><line style=\"stroke:#181818;stroke-width:0.5;\" x1=\"87.5\" x2=\"208.5\" y1=\"172\" y2=\"172\"/></g><!--class Trest--><g id=\"elem_Trest\"><rect fill=\"#F1F1F1\" height=\"48\" id=\"Trest\" rx=\"2.5\" ry=\"2.5\" style=\"stroke:#181818;stroke-width:0.5;\" width=\"70\" x=\"7\" y=\"7\"/><ellipse cx=\"22\" cy=\"23\" fill=\"#ADD1B2\" rx=\"11\" ry=\"11\" style=\"stroke:#181818;stroke-width:1.0;\"/><path d=\"M24.3438,18.6719 C23.4063,18.2344 22.8125,18.0938 21.9375,18.0938 C19.3125,18.0938 17.3125,20.1719 17.3125,22.8906 L17.3125,24.0156 C17.3125,26.5938 19.4219,28.4844 22.3125,28.4844 C23.5313,28.4844 24.6875,28.1875 25.4375,27.6406 C26.0156,27.2344 26.3438,26.7813 26.3438,26.3906 C26.3438,25.9375 25.9531,25.5469 25.4844,25.5469 C25.2656,25.5469 25.0625,25.625 24.875,25.8125 C24.4219,26.2969 24.4219,26.2969 24.2344,26.3906 C23.8125,26.6563 23.125,26.7813 22.3594,26.7813 C20.3125,26.7813 19.0156,25.6875 19.0156,23.9844 L19.0156,22.8906 C19.0156,21.1094 20.2656,19.7969 22,19.7969 C22.5781,19.7969 23.1875,19.9531 23.6563,20.2031 C24.1406,20.4844 24.3125,20.7031 24.4063,21.1094 C24.4688,21.5156 24.5,21.6406 24.6406,21.7656 C24.7813,21.9063 25.0156,22.0156 25.2344,22.0156 C25.5,22.0156 25.7656,21.875 25.9375,21.6563 C26.0469,21.5 26.0781,21.3125 26.0781,20.8906 L26.0781,19.4688 C26.0781,19.0313 26.0625,18.9063 25.9688,18.75 C25.8125,18.4844 25.5313,18.3438 25.2344,18.3438 C24.9375,18.3438 24.7344,18.4375 24.5156,18.75 L24.3438,18.6719 Z \" fill=\"#000000\"/><text fill=\"#000000\" font-family=\"sans-serif\" font-size=\"14\" lengthAdjust=\"spacing\" textLength=\"38\" x=\"36\" y=\"27.8467\">Trest</text><line style=\"stroke:#181818;stroke-width:0.5;\" x1=\"8\" x2=\"76\" y1=\"39\" y2=\"39\"/><line style=\"stroke:#181818;stroke-width:0.5;\" x1=\"8\" x2=\"76\" y1=\"47\" y2=\"47\"/></g><!--class Room--><g id=\"elem_Room\"><rect fill=\"#F1F1F1\" height=\"48\" id=\"Room\" rx=\"2.5\" ry=\"2.5\" style=\"stroke:#181818;stroke-width:0.5;\" width=\"74\" x=\"168\" y=\"7\"/><ellipse cx=\"183\" cy=\"23\" fill=\"#ADD1B2\" rx=\"11\" ry=\"11\" style=\"stroke:#181818;stroke-width:1.0;\"/><path d=\"M185.3438,18.6719 C184.4063,18.2344 183.8125,18.0938 182.9375,18.0938 C180.3125,18.0938 178.3125,20.1719 178.3125,22.8906 L178.3125,24.0156 C178.3125,26.5938 180.4219,28.4844 183.3125,28.4844 C184.5313,28.4844 185.6875,28.1875 186.4375,27.6406 C187.0156,27.2344 187.3438,26.7813 187.3438,26.3906 C187.3438,25.9375 186.9531,25.5469 186.4844,25.5469 C186.2656,25.5469 186.0625,25.625 185.875,25.8125 C185.4219,26.2969 185.4219,26.2969 185.2344,26.3906 C184.8125,26.6563 184.125,26.7813 183.3594,26.7813 C181.3125,26.7813 180.0156,25.6875 180.0156,23.9844 L180.0156,22.8906 C180.0156,21.1094 181.2656,19.7969 183,19.7969 C183.5781,19.7969 184.1875,19.9531 184.6563,20.2031 C185.1406,20.4844 185.3125,20.7031 185.4063,21.1094 C185.4688,21.5156 185.5,21.6406 185.6406,21.7656 C185.7813,21.9063 186.0156,22.0156 186.2344,22.0156 C186.5,22.0156 186.7656,21.875 186.9375,21.6563 C187.0469,21.5 187.0781,21.3125 187.0781,20.8906 L187.0781,19.4688 C187.0781,19.0313 187.0625,18.9063 186.9688,18.75 C186.8125,18.4844 186.5313,18.3438 186.2344,18.3438 C185.9375,18.3438 185.7344,18.4375 185.5156,18.75 L185.3438,18.6719 Z \" fill=\"#000000\"/><text fill=\"#000000\" font-family=\"sans-serif\" font-size=\"14\" lengthAdjust=\"spacing\" textLength=\"42\" x=\"197\" y=\"27.8467\">Room</text><line style=\"stroke:#181818;stroke-width:0.5;\" x1=\"169\" x2=\"241\" y1=\"39\" y2=\"39\"/><line style=\"stroke:#181818;stroke-width:0.5;\" x1=\"169\" x2=\"241\" y1=\"47\" y2=\"47\"/></g><!--class Zamestnanec--><g id=\"elem_Zamestnanec\"><rect fill=\"#F1F1F1\" height=\"48\" id=\"Zamestnanec\" rx=\"2.5\" ry=\"2.5\" style=\"stroke:#181818;stroke-width:0.5;\" width=\"130\" x=\"316\" y=\"7\"/><ellipse cx=\"331\" cy=\"23\" fill=\"#ADD1B2\" rx=\"11\" ry=\"11\" style=\"stroke:#181818;stroke-width:1.0;\"/><path d=\"M333.3438,18.6719 C332.4063,18.2344 331.8125,18.0938 330.9375,18.0938 C328.3125,18.0938 326.3125,20.1719 326.3125,22.8906 L326.3125,24.0156 C326.3125,26.5938 328.4219,28.4844 331.3125,28.4844 C332.5313,28.4844 333.6875,28.1875 334.4375,27.6406 C335.0156,27.2344 335.3438,26.7813 335.3438,26.3906 C335.3438,25.9375 334.9531,25.5469 334.4844,25.5469 C334.2656,25.5469 334.0625,25.625 333.875,25.8125 C333.4219,26.2969 333.4219,26.2969 333.2344,26.3906 C332.8125,26.6563 332.125,26.7813 331.3594,26.7813 C329.3125,26.7813 328.0156,25.6875 328.0156,23.9844 L328.0156,22.8906 C328.0156,21.1094 329.2656,19.7969 331,19.7969 C331.5781,19.7969 332.1875,19.9531 332.6563,20.2031 C333.1406,20.4844 333.3125,20.7031 333.4063,21.1094 C333.4688,21.5156 333.5,21.6406 333.6406,21.7656 C333.7813,21.9063 334.0156,22.0156 334.2344,22.0156 C334.5,22.0156 334.7656,21.875 334.9375,21.6563 C335.0469,21.5 335.0781,21.3125 335.0781,20.8906 L335.0781,19.4688 C335.0781,19.0313 335.0625,18.9063 334.9688,18.75 C334.8125,18.4844 334.5313,18.3438 334.2344,18.3438 C333.9375,18.3438 333.7344,18.4375 333.5156,18.75 L333.3438,18.6719 Z \" fill=\"#000000\"/><text fill=\"#000000\" font-family=\"sans-serif\" font-size=\"14\" lengthAdjust=\"spacing\" textLength=\"98\" x=\"345\" y=\"27.8467\">Zamestnanec</text><line style=\"stroke:#181818;stroke-width:0.5;\" x1=\"317\" x2=\"445\" y1=\"39\" y2=\"39\"/><line style=\"stroke:#181818;stroke-width:0.5;\" x1=\"317\" x2=\"445\" y1=\"47\" y2=\"47\"/></g><!--class Pozice--><g id=\"elem_Pozice\"><rect fill=\"#F1F1F1\" height=\"48\" id=\"Pozice\" rx=\"2.5\" ry=\"2.5\" style=\"stroke:#181818;stroke-width:0.5;\" width=\"79\" x=\"341.5\" y=\"132\"/><ellipse cx=\"356.5\" cy=\"148\" fill=\"#ADD1B2\" rx=\"11\" ry=\"11\" style=\"stroke:#181818;stroke-width:1.0;\"/><path d=\"M358.8438,143.6719 C357.9063,143.2344 357.3125,143.0938 356.4375,143.0938 C353.8125,143.0938 351.8125,145.1719 351.8125,147.8906 L351.8125,149.0156 C351.8125,151.5938 353.9219,153.4844 356.8125,153.4844 C358.0313,153.4844 359.1875,153.1875 359.9375,152.6406 C360.5156,152.2344 360.8438,151.7813 360.8438,151.3906 C360.8438,150.9375 360.4531,150.5469 359.9844,150.5469 C359.7656,150.5469 359.5625,150.625 359.375,150.8125 C358.9219,151.2969 358.9219,151.2969 358.7344,151.3906 C358.3125,151.6563 357.625,151.7813 356.8594,151.7813 C354.8125,151.7813 353.5156,150.6875 353.5156,148.9844 L353.5156,147.8906 C353.5156,146.1094 354.7656,144.7969 356.5,144.7969 C357.0781,144.7969 357.6875,144.9531 358.1563,145.2031 C358.6406,145.4844 358.8125,145.7031 358.9063,146.1094 C358.9688,146.5156 359,146.6406 359.1406,146.7656 C359.2813,146.9063 359.5156,147.0156 359.7344,147.0156 C360,147.0156 360.2656,146.875 360.4375,146.6563 C360.5469,146.5 360.5781,146.3125 360.5781,145.8906 L360.5781,144.4688 C360.5781,144.0313 360.5625,143.9063 360.4688,143.75 C360.3125,143.4844 360.0313,143.3438 359.7344,143.3438 C359.4375,143.3438 359.2344,143.4375 359.0156,143.75 L358.8438,143.6719 Z \" fill=\"#000000\"/><text fill=\"#000000\" font-family=\"sans-serif\" font-size=\"14\" lengthAdjust=\"spacing\" textLength=\"47\" x=\"370.5\" y=\"152.8467\">Pozice</text><line style=\"stroke:#181818;stroke-width:0.5;\" x1=\"342.5\" x2=\"419.5\" y1=\"164\" y2=\"164\"/><line style=\"stroke:#181818;stroke-width:0.5;\" x1=\"342.5\" x2=\"419.5\" y1=\"172\" y2=\"172\"/></g><!--link Prisoner to Rozvrh--><g id=\"link_Prisoner_Rozvrh\"><path codeLine=\"5\" d=\"M153.06,305.173 C153.942,319.368 156.637,337.527 164,352 C169.569,362.9459 177.829,373.1382 186.484,381.9366 \" fill=\"none\" id=\"Prisoner-Rozvrh\" style=\"stroke:#181818;stroke-width:1.0;\"/><text fill=\"#000000\" font-family=\"sans-serif\" font-size=\"13\" lengthAdjust=\"spacing\" textLength=\"96\" x=\"165\" y=\"348.0669\">Kde se nachazi</text></g><!--link VykonTrestu to Prisoner--><g id=\"link_VykonTrestu_Prisoner\"><path codeLine=\"9\" d=\"M145.651,180.037 C144.597,193.7 143.826,211.353 145,227 C145.738,236.836 147.237,247.614 148.739,256.866 \" fill=\"none\" id=\"VykonTrestu-Prisoner\" style=\"stroke:#181818;stroke-width:1.0;\"/><text fill=\"#000000\" font-family=\"sans-serif\" font-size=\"13\" lengthAdjust=\"spacing\" textLength=\"98\" x=\"146\" y=\"223.0669\">Vykonava trest</text></g><!--link Trest to VykonTrestu--><g id=\"link_Trest_VykonTrestu\"><path codeLine=\"11\" d=\"M45.5316,55.314 C48.6816,69.914 54.4906,88.458 65,102 C74.2243,113.886 86.9146,123.863 99.5979,131.839 \" fill=\"none\" id=\"Trest-VykonTrestu\" style=\"stroke:#181818;stroke-width:1.0;\"/><text fill=\"#000000\" font-family=\"sans-serif\" font-size=\"13\" lengthAdjust=\"spacing\" textLength=\"83\" x=\"66\" y=\"98.0669\">Vykonava se</text></g><!--link Room to Rozvrh--><g id=\"link_Room_Rozvrh\"><path codeLine=\"13\" d=\"M241.756,55.193 C251.466,63.329 260.704,73.384 266,85 C315.224,192.976 300.602,238.49 266,352 C262.8,362.4968 257.123,372.8252 250.995,381.9137 \" fill=\"none\" id=\"Room-Rozvrh\" style=\"stroke:#181818;stroke-width:1.0;\"/><text fill=\"#000000\" font-family=\"sans-serif\" font-size=\"13\" lengthAdjust=\"spacing\" textLength=\"96\" x=\"299\" y=\"223.0669\">Kde se nachazi</text></g><!--link Room to VykonTrestu--><g id=\"link_Room_VykonTrestu\"><path codeLine=\"15\" d=\"M183.632,55.078 C176.462,63.887 169.021,74.377 164,85 C157.021,99.764 152.995,117.748 150.727,131.791 \" fill=\"none\" id=\"Room-VykonTrestu\" style=\"stroke:#181818;stroke-width:1.0;\"/><text fill=\"#000000\" font-family=\"sans-serif\" font-size=\"13\" lengthAdjust=\"spacing\" textLength=\"96\" x=\"165\" y=\"98.0669\">Kde se nachazi</text></g><!--link Zamestnanec to Pozice--><g id=\"link_Zamestnanec_Pozice\"><path codeLine=\"18\" d=\"M381,55.135 C381,77.126 381,110.012 381,131.968 \" fill=\"none\" id=\"Zamestnanec-Pozice\" style=\"stroke:#181818;stroke-width:1.0;\"/><text fill=\"#000000\" font-family=\"sans-serif\" font-size=\"13\" lengthAdjust=\"spacing\" textLength=\"143\" x=\"382\" y=\"98.0669\">Zamestnany na pozici</text></g><!--SRC=[VOx12i9034Jl-OhSfJ_GN_0YLJnu2skmGJShcxNGBVwxkuMMYk0SPzuaunvaXbt8G-nn0YpQuJ55qHicyGnlW4CK2yeHcsOXMznV6OrHoVMK1OhEupteARAbLoNNLejpGWDXgYd035LcMzbWnW1T2FxlmmNull4pwqA-H4hARbuLiZWkuEgF1SPdjUK3]--></g></svg>"
     },
     "execution_count": 8,
     "metadata": {},
     "output_type": "execute_result"
    }
   ],
   "source": [
    "%%plantuml\n",
    "@startuml\n",
    "\n",
    "class Rozvrh {\n",
    "    + String time\n",
    "}\n",
    "\n",
    "Prisoner -- Rozvrh : Kde se nachazi\n",
    "\n",
    "\n",
    "\n",
    "VykonTrestu -- Prisoner : Vykonava trest\n",
    "\n",
    "Trest -- VykonTrestu : Vykonava se\n",
    "\n",
    "Room -- Rozvrh : Kde se nachazi\n",
    "\n",
    "Room -- VykonTrestu : Kde se nachazi\n",
    "\n",
    "\n",
    "Zamestnanec -- Pozice : Zamestnany na pozici\n",
    "\n",
    "@enduml\n"
   ],
   "metadata": {
    "collapsed": false,
    "ExecuteTime": {
     "end_time": "2023-11-15T16:08:01.464302200Z",
     "start_time": "2023-11-15T16:07:58.918437300Z"
    }
   },
   "id": "7f15dc7177136cab"
  },
  {
   "cell_type": "code",
   "execution_count": null,
   "outputs": [],
   "source": [],
   "metadata": {
    "collapsed": false
   },
   "id": "878fad6d14eb08f6"
  }
 ],
 "metadata": {
  "kernelspec": {
   "display_name": "Python 3",
   "language": "python",
   "name": "python3"
  },
  "language_info": {
   "codemirror_mode": {
    "name": "ipython",
    "version": 2
   },
   "file_extension": ".py",
   "mimetype": "text/x-python",
   "name": "python",
   "nbconvert_exporter": "python",
   "pygments_lexer": "ipython2",
   "version": "2.7.6"
  }
 },
 "nbformat": 4,
 "nbformat_minor": 5
}
