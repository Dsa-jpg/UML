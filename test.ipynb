{
 "cells": [
  {
   "cell_type": "code",
   "execution_count": 2,
   "id": "initial_id",
   "metadata": {
    "collapsed": true,
    "ExecuteTime": {
     "end_time": "2023-11-15T16:02:42.328093500Z",
     "start_time": "2023-11-15T16:02:42.307258500Z"
    }
   },
   "outputs": [],
   "source": [
    "import iplantuml\n"
   ]
  },
  {
   "cell_type": "code",
   "execution_count": null,
   "outputs": [],
   "source": [
    "%%plantuml \n",
    "\n",
    "@startuml\n",
    "Alice -> Bob: Authentication Request\n",
    "Bob --> Alice: Authentication Response\n",
    "@enduml "
   ],
   "metadata": {
    "collapsed": false
   },
   "id": "7d73aa0c7196b1ad"
  },
  {
   "cell_type": "code",
   "execution_count": 19,
   "outputs": [
    {
     "ename": "CalledProcessError",
     "evalue": "Command '['plantweb', '--format', 'auto', '8d836441-214d-4525-8792-c285f831cdb9.uml']' returned non-zero exit status 1.",
     "output_type": "error",
     "traceback": [
      "\u001B[1;31m---------------------------------------------------------------------------\u001B[0m",
      "\u001B[1;31mCalledProcessError\u001B[0m                        Traceback (most recent call last)",
      "Cell \u001B[1;32mIn[19], line 1\u001B[0m\n\u001B[1;32m----> 1\u001B[0m \u001B[43mget_ipython\u001B[49m\u001B[43m(\u001B[49m\u001B[43m)\u001B[49m\u001B[38;5;241;43m.\u001B[39;49m\u001B[43mrun_cell_magic\u001B[49m\u001B[43m(\u001B[49m\u001B[38;5;124;43m'\u001B[39;49m\u001B[38;5;124;43mplantuml\u001B[39;49m\u001B[38;5;124;43m'\u001B[39;49m\u001B[43m,\u001B[49m\u001B[43m \u001B[49m\u001B[38;5;124;43m'\u001B[39;49m\u001B[38;5;124;43m'\u001B[39;49m\u001B[43m,\u001B[49m\u001B[43m \u001B[49m\u001B[38;5;124;43m'\u001B[39;49m\u001B[38;5;124;43m@startuml\u001B[39;49m\u001B[38;5;130;43;01m\\n\u001B[39;49;00m\u001B[38;5;130;43;01m\\n\u001B[39;49;00m\u001B[38;5;124;43mleft to right direction\u001B[39;49m\u001B[38;5;130;43;01m\\n\u001B[39;49;00m\u001B[38;5;130;43;01m\\n\u001B[39;49;00m\u001B[38;5;124;43mactor \u001B[39;49m\u001B[38;5;124;43m\"\u001B[39;49m\u001B[38;5;124;43mNavstevnik\u001B[39;49m\u001B[38;5;124;43m\"\u001B[39;49m\u001B[38;5;124;43m as visitor\u001B[39;49m\u001B[38;5;130;43;01m\\n\u001B[39;49;00m\u001B[38;5;124;43mactor \u001B[39;49m\u001B[38;5;124;43m\"\u001B[39;49m\u001B[38;5;124;43mZamestnanec\u001B[39;49m\u001B[38;5;124;43m\"\u001B[39;49m\u001B[38;5;124;43m as employee\u001B[39;49m\u001B[38;5;130;43;01m\\n\u001B[39;49;00m\u001B[38;5;124;43mactor \u001B[39;49m\u001B[38;5;124;43m\"\u001B[39;49m\u001B[38;5;124;43mSystem monitorovani\u001B[39;49m\u001B[38;5;124;43m\"\u001B[39;49m\u001B[38;5;124;43m as monitoringSystem\u001B[39;49m\u001B[38;5;130;43;01m\\n\u001B[39;49;00m\u001B[38;5;130;43;01m\\n\u001B[39;49;00m\u001B[38;5;124;43musecase \u001B[39;49m\u001B[38;5;124;43m\"\u001B[39;49m\u001B[38;5;124;43mDetekce nebezpecneho chovani\u001B[39;49m\u001B[38;5;124;43m\"\u001B[39;49m\u001B[38;5;124;43m as detection\u001B[39;49m\u001B[38;5;130;43;01m\\n\u001B[39;49;00m\u001B[38;5;124;43musecase \u001B[39;49m\u001B[38;5;124;43m\"\u001B[39;49m\u001B[38;5;124;43mAutomaticka reakce na udalost\u001B[39;49m\u001B[38;5;124;43m\"\u001B[39;49m\u001B[38;5;124;43m as automaticReaction\u001B[39;49m\u001B[38;5;130;43;01m\\n\u001B[39;49;00m\u001B[38;5;124;43musecase \u001B[39;49m\u001B[38;5;124;43m\"\u001B[39;49m\u001B[38;5;124;43mManualni reakce na udalost\u001B[39;49m\u001B[38;5;124;43m\"\u001B[39;49m\u001B[38;5;124;43m as manualReaction\u001B[39;49m\u001B[38;5;130;43;01m\\n\u001B[39;49;00m\u001B[38;5;124;43musecase \u001B[39;49m\u001B[38;5;124;43m\"\u001B[39;49m\u001B[38;5;124;43mZasahovani zaměstnance\u001B[39;49m\u001B[38;5;124;43m\"\u001B[39;49m\u001B[38;5;124;43m as employeeIntervention\u001B[39;49m\u001B[38;5;130;43;01m\\n\u001B[39;49;00m\u001B[38;5;124;43musecase \u001B[39;49m\u001B[38;5;124;43m\"\u001B[39;49m\u001B[38;5;124;43mZasahovani systemu\u001B[39;49m\u001B[38;5;124;43m\"\u001B[39;49m\u001B[38;5;124;43m as systemIntervention\u001B[39;49m\u001B[38;5;130;43;01m\\n\u001B[39;49;00m\u001B[38;5;130;43;01m\\n\u001B[39;49;00m\u001B[38;5;124;43mvisitor --> detection : Iniciacni udalost\u001B[39;49m\u001B[38;5;130;43;01m\\n\u001B[39;49;00m\u001B[38;5;124;43mdetection --> automaticReaction : Automaticke\u001B[39;49m\u001B[38;5;130;43;01m\\n\u001B[39;49;00m\u001B[38;5;124;43mdetection --> manualReaction : Manualni\u001B[39;49m\u001B[38;5;130;43;01m\\n\u001B[39;49;00m\u001B[38;5;130;43;01m\\n\u001B[39;49;00m\u001B[38;5;124;43memployee --> manualReaction : Manualni\u001B[39;49m\u001B[38;5;130;43;01m\\n\u001B[39;49;00m\u001B[38;5;130;43;01m\\n\u001B[39;49;00m\u001B[38;5;124;43m@enduml\u001B[39;49m\u001B[38;5;130;43;01m\\n\u001B[39;49;00m\u001B[38;5;130;43;01m\\n\u001B[39;49;00m\u001B[38;5;130;43;01m\\n\u001B[39;49;00m\u001B[38;5;124;43m'\u001B[39;49m\u001B[43m)\u001B[49m\n",
      "File \u001B[1;32m~\\PycharmProjects\\UML\\venv\\lib\\site-packages\\IPython\\core\\interactiveshell.py:2493\u001B[0m, in \u001B[0;36mInteractiveShell.run_cell_magic\u001B[1;34m(self, magic_name, line, cell)\u001B[0m\n\u001B[0;32m   2491\u001B[0m \u001B[38;5;28;01mwith\u001B[39;00m \u001B[38;5;28mself\u001B[39m\u001B[38;5;241m.\u001B[39mbuiltin_trap:\n\u001B[0;32m   2492\u001B[0m     args \u001B[38;5;241m=\u001B[39m (magic_arg_s, cell)\n\u001B[1;32m-> 2493\u001B[0m     result \u001B[38;5;241m=\u001B[39m fn(\u001B[38;5;241m*\u001B[39margs, \u001B[38;5;241m*\u001B[39m\u001B[38;5;241m*\u001B[39mkwargs)\n\u001B[0;32m   2495\u001B[0m \u001B[38;5;66;03m# The code below prevents the output from being displayed\u001B[39;00m\n\u001B[0;32m   2496\u001B[0m \u001B[38;5;66;03m# when using magics with decorator @output_can_be_silenced\u001B[39;00m\n\u001B[0;32m   2497\u001B[0m \u001B[38;5;66;03m# when the last Python token in the expression is a ';'.\u001B[39;00m\n\u001B[0;32m   2498\u001B[0m \u001B[38;5;28;01mif\u001B[39;00m \u001B[38;5;28mgetattr\u001B[39m(fn, magic\u001B[38;5;241m.\u001B[39mMAGIC_OUTPUT_CAN_BE_SILENCED, \u001B[38;5;28;01mFalse\u001B[39;00m):\n",
      "File \u001B[1;32m~\\PycharmProjects\\UML\\venv\\lib\\site-packages\\iplantuml\\__init__.py:101\u001B[0m, in \u001B[0;36mplantuml\u001B[1;34m(line, cell)\u001B[0m\n\u001B[0;32m     99\u001B[0m output \u001B[38;5;241m=\u001B[39m \u001B[38;5;28;01mNone\u001B[39;00m\n\u001B[0;32m    100\u001B[0m \u001B[38;5;28;01mif\u001B[39;00m use_web:\n\u001B[1;32m--> 101\u001B[0m     output \u001B[38;5;241m=\u001B[39m \u001B[43mplantuml_web\u001B[49m\u001B[43m(\u001B[49m\u001B[43muml_path\u001B[49m\u001B[43m)\u001B[49m\n\u001B[0;32m    102\u001B[0m \u001B[38;5;28;01melse\u001B[39;00m:\n\u001B[0;32m    103\u001B[0m     plantuml_path \u001B[38;5;241m=\u001B[39m os\u001B[38;5;241m.\u001B[39mpath\u001B[38;5;241m.\u001B[39mabspath(args\u001B[38;5;241m.\u001B[39mplantuml_path \u001B[38;5;129;01mor\u001B[39;00m PLANTUMLPATH)\n",
      "File \u001B[1;32m~\\PycharmProjects\\UML\\venv\\lib\\site-packages\\iplantuml\\__init__.py:68\u001B[0m, in \u001B[0;36mplantuml_web\u001B[1;34m(*file_names, **kwargs)\u001B[0m\n\u001B[0;32m     57\u001B[0m \u001B[38;5;250m\u001B[39m\u001B[38;5;124;03m\"\"\"\u001B[39;00m\n\u001B[0;32m     58\u001B[0m \u001B[38;5;124;03mGiven a list of UML documents, generate corresponding SVG diagrams, using\u001B[39;00m\n\u001B[0;32m     59\u001B[0m \u001B[38;5;124;03mPlantUML's web service via the plantweb module.\u001B[39;00m\n\u001B[1;32m   (...)\u001B[0m\n\u001B[0;32m     62\u001B[0m \u001B[38;5;124;03m:return: the path to the generated SVG UML diagram.\u001B[39;00m\n\u001B[0;32m     63\u001B[0m \u001B[38;5;124;03m\"\"\"\u001B[39;00m\n\u001B[0;32m     64\u001B[0m cmd \u001B[38;5;241m=\u001B[39m [\u001B[38;5;124m\"\u001B[39m\u001B[38;5;124mplantweb\u001B[39m\u001B[38;5;124m\"\u001B[39m,\n\u001B[0;32m     65\u001B[0m        \u001B[38;5;124m\"\u001B[39m\u001B[38;5;124m--format\u001B[39m\u001B[38;5;124m\"\u001B[39m,\n\u001B[0;32m     66\u001B[0m        \u001B[38;5;124m\"\u001B[39m\u001B[38;5;124mauto\u001B[39m\u001B[38;5;124m\"\u001B[39m] \u001B[38;5;241m+\u001B[39m \u001B[38;5;28mlist\u001B[39m(file_names)\n\u001B[1;32m---> 68\u001B[0m \u001B[38;5;28;01mreturn\u001B[39;00m \u001B[43m_exec_and_get_paths\u001B[49m\u001B[43m(\u001B[49m\u001B[43mcmd\u001B[49m\u001B[43m,\u001B[49m\u001B[43m \u001B[49m\u001B[43mfile_names\u001B[49m\u001B[43m)\u001B[49m\n",
      "File \u001B[1;32m~\\PycharmProjects\\UML\\venv\\lib\\site-packages\\iplantuml\\__init__.py:32\u001B[0m, in \u001B[0;36m_exec_and_get_paths\u001B[1;34m(cmd, file_names)\u001B[0m\n\u001B[0;32m     31\u001B[0m \u001B[38;5;28;01mdef\u001B[39;00m \u001B[38;5;21m_exec_and_get_paths\u001B[39m(cmd, file_names):\n\u001B[1;32m---> 32\u001B[0m     \u001B[43msubprocess\u001B[49m\u001B[38;5;241;43m.\u001B[39;49m\u001B[43mcheck_call\u001B[49m\u001B[43m(\u001B[49m\u001B[43mcmd\u001B[49m\u001B[43m,\u001B[49m\u001B[43m \u001B[49m\u001B[43mshell\u001B[49m\u001B[38;5;241;43m=\u001B[39;49m\u001B[38;5;28;43;01mFalse\u001B[39;49;00m\u001B[43m,\u001B[49m\u001B[43m \u001B[49m\u001B[43mstderr\u001B[49m\u001B[38;5;241;43m=\u001B[39;49m\u001B[43msubprocess\u001B[49m\u001B[38;5;241;43m.\u001B[39;49m\u001B[43mSTDOUT\u001B[49m\u001B[43m)\u001B[49m\n\u001B[0;32m     34\u001B[0m     \u001B[38;5;28;01mreturn\u001B[39;00m [os\u001B[38;5;241m.\u001B[39mpath\u001B[38;5;241m.\u001B[39msplitext(f)[\u001B[38;5;241m0\u001B[39m] \u001B[38;5;241m+\u001B[39m \u001B[38;5;124m\"\u001B[39m\u001B[38;5;124m.svg\u001B[39m\u001B[38;5;124m\"\u001B[39m \u001B[38;5;28;01mfor\u001B[39;00m f \u001B[38;5;129;01min\u001B[39;00m file_names]\n",
      "File \u001B[1;32m~\\AppData\\Local\\Programs\\Python\\Python310\\lib\\subprocess.py:369\u001B[0m, in \u001B[0;36mcheck_call\u001B[1;34m(*popenargs, **kwargs)\u001B[0m\n\u001B[0;32m    367\u001B[0m     \u001B[38;5;28;01mif\u001B[39;00m cmd \u001B[38;5;129;01mis\u001B[39;00m \u001B[38;5;28;01mNone\u001B[39;00m:\n\u001B[0;32m    368\u001B[0m         cmd \u001B[38;5;241m=\u001B[39m popenargs[\u001B[38;5;241m0\u001B[39m]\n\u001B[1;32m--> 369\u001B[0m     \u001B[38;5;28;01mraise\u001B[39;00m CalledProcessError(retcode, cmd)\n\u001B[0;32m    370\u001B[0m \u001B[38;5;28;01mreturn\u001B[39;00m \u001B[38;5;241m0\u001B[39m\n",
      "\u001B[1;31mCalledProcessError\u001B[0m: Command '['plantweb', '--format', 'auto', '8d836441-214d-4525-8792-c285f831cdb9.uml']' returned non-zero exit status 1."
     ]
    }
   ],
   "source": [
    "%%plantuml\n",
    "@startuml\n",
    "\n",
    "left to right direction\n",
    "\n",
    "actor \"Navstevnik\" as visitor\n",
    "actor \"Zamestnanec\" as employee\n",
    "actor \"System monitorovani\" as monitoringSystem\n",
    "\n",
    "usecase \"Detekce nebezpecneho chovani\" as detection\n",
    "usecase \"Automaticka reakce na udalost\" as automaticReaction\n",
    "usecase \"Manualni reakce na udalost\" as manualReaction\n",
    "\n",
    "visitor --> detection : Iniciacni udalost\n",
    "detection --> automaticReaction : Automaticke\n",
    "detection --> manualReaction : Manualni\n",
    "\n",
    "employee --> manualReaction : Manualni\n",
    "\n",
    "@enduml\n",
    "\n"
   ],
   "metadata": {
    "collapsed": false,
    "ExecuteTime": {
     "end_time": "2023-11-15T13:24:05.764590500Z",
     "start_time": "2023-11-15T13:24:04.895559Z"
    }
   },
   "id": "a41e564daf6b29ce"
  },
  {
   "cell_type": "code",
   "execution_count": 20,
   "outputs": [
    {
     "data": {
      "text/plain": "<IPython.core.display.SVG object>",
      "image/svg+xml": "<svg xmlns=\"http://www.w3.org/2000/svg\" xmlns:xlink=\"http://www.w3.org/1999/xlink\" contentStyleType=\"text/css\" height=\"365px\" preserveAspectRatio=\"none\" style=\"width:1414px;height:365px;background:#FFFFFF;\" version=\"1.1\" viewBox=\"0 0 1414 365\" width=\"1414px\" zoomAndPan=\"magnify\"><defs/><g><!--entity visitor--><g id=\"elem_visitor\"><ellipse cx=\"83\" cy=\"125\" fill=\"#F1F1F1\" rx=\"8\" ry=\"8\" style=\"stroke:#181818;stroke-width:0.5;\"/><path d=\"M83,133 L83,160 M70,141 L96,141 M83,160 L70,175 M83,160 L96,175 \" fill=\"none\" style=\"stroke:#181818;stroke-width:0.5;\"/><text fill=\"#000000\" font-family=\"sans-serif\" font-size=\"14\" lengthAdjust=\"spacing\" textLength=\"79\" x=\"43.5\" y=\"189.4951\">Navstevnik</text></g><!--entity employee--><g id=\"elem_employee\"><ellipse cx=\"455\" cy=\"238\" fill=\"#F1F1F1\" rx=\"8\" ry=\"8\" style=\"stroke:#181818;stroke-width:0.5;\"/><path d=\"M455,246 L455,273 M442,254 L468,254 M455,273 L442,288 M455,273 L468,288 \" fill=\"none\" style=\"stroke:#181818;stroke-width:0.5;\"/><text fill=\"#000000\" font-family=\"sans-serif\" font-size=\"14\" lengthAdjust=\"spacing\" textLength=\"98\" x=\"406\" y=\"302.4951\">Zamestnanec</text></g><!--entity monitoringSystem--><g id=\"elem_monitoringSystem\"><ellipse cx=\"83\" cy=\"14\" fill=\"#F1F1F1\" rx=\"8\" ry=\"8\" style=\"stroke:#181818;stroke-width:0.5;\"/><path d=\"M83,22 L83,49 M70,30 L96,30 M83,49 L70,64 M83,49 L96,64 \" fill=\"none\" style=\"stroke:#181818;stroke-width:0.5;\"/><text fill=\"#000000\" font-family=\"sans-serif\" font-size=\"14\" lengthAdjust=\"spacing\" textLength=\"154\" x=\"6\" y=\"78.4951\">System monitorovani</text></g><g id=\"elem_detection\"><ellipse cx=\"455.0975\" cy=\"140.3195\" fill=\"#F1F1F1\" rx=\"132.0975\" ry=\"28.8195\" style=\"stroke:#181818;stroke-width:0.5;\"/><text fill=\"#000000\" font-family=\"sans-serif\" font-size=\"14\" lengthAdjust=\"spacing\" textLength=\"233\" x=\"338.5975\" y=\"143.1662\">Detekce nebezpecneho chovani</text></g><g id=\"elem_automaticReaction\"><ellipse cx=\"903.8908\" cy=\"124.2782\" fill=\"#F1F1F1\" rx=\"126.8908\" ry=\"27.7782\" style=\"stroke:#181818;stroke-width:0.5;\"/><text fill=\"#000000\" font-family=\"sans-serif\" font-size=\"14\" lengthAdjust=\"spacing\" textLength=\"222\" x=\"792.8908\" y=\"127.1248\">Automaticka reakce na udalost</text></g><g id=\"elem_manualReaction\"><ellipse cx=\"903.8359\" cy=\"334.4672\" fill=\"#F1F1F1\" rx=\"112.8359\" ry=\"24.9672\" style=\"stroke:#181818;stroke-width:0.5;\"/><text fill=\"#000000\" font-family=\"sans-serif\" font-size=\"14\" lengthAdjust=\"spacing\" textLength=\"192\" x=\"807.8359\" y=\"337.3139\">Manualni reakce na udalost</text></g><g id=\"elem_employeeIntervention\"><ellipse cx=\"1301.2877\" cy=\"259.3575\" fill=\"#F1F1F1\" rx=\"107.2877\" ry=\"23.8575\" style=\"stroke:#181818;stroke-width:0.5;\"/><text fill=\"#000000\" font-family=\"sans-serif\" font-size=\"14\" lengthAdjust=\"spacing\" textLength=\"180\" x=\"1211.2877\" y=\"262.2042\">Zasahovani zamestnance</text></g><g id=\"elem_systemIntervention\"><ellipse cx=\"1301.4996\" cy=\"74.5999\" fill=\"#F1F1F1\" rx=\"90.9996\" ry=\"20.5999\" style=\"stroke:#181818;stroke-width:0.5;\"/><text fill=\"#000000\" font-family=\"sans-serif\" font-size=\"14\" lengthAdjust=\"spacing\" textLength=\"144\" x=\"1229.4996\" y=\"77.4466\">Zasahovani systemu</text></g><!--link visitor to detection--><g id=\"link_visitor_detection\"><path d=\"M122.535,154.257 C164.483,153.877 233.531,152.915 293,150.5 C304.473,150.034 310.4084,149.7791 322.3514,149.1451 \" fill=\"none\" id=\"visitor-to-detection\" style=\"stroke:#181818;stroke-width:1.0;\"/><polygon fill=\"#181818\" points=\"328.343,148.827,319.1436,145.3097,323.35,149.0921,319.5677,153.2985,328.343,148.827\" style=\"stroke:#181818;stroke-width:1.0;\"/><text fill=\"#000000\" font-family=\"sans-serif\" font-size=\"13\" lengthAdjust=\"spacing\" textLength=\"101\" x=\"191\" y=\"146.5669\">Iniciacni udalost</text></g><!--link detection to automaticReaction--><g id=\"link_detection_automaticReaction\"><path d=\"M585.591,135.861 C646.305,133.688 712.3228,131.3257 772.3968,129.1747 \" fill=\"none\" id=\"detection-to-automaticReaction\" style=\"stroke:#181818;stroke-width:1.0;\"/><polygon fill=\"#181818\" points=\"778.393,128.96,769.2556,125.2846,773.3962,129.1389,769.5419,133.2795,778.393,128.96\" style=\"stroke:#181818;stroke-width:1.0;\"/><text fill=\"#000000\" font-family=\"sans-serif\" font-size=\"13\" lengthAdjust=\"spacing\" textLength=\"81\" x=\"641.5\" y=\"125.5669\">Automaticke</text></g><!--link detection to manualReaction--><g id=\"link_detection_manualReaction\"><path d=\"M517.165,166.097 C576.338,191.119 668.362,230.711 747,267.5 C760.503,273.8168 763.435,276.3192 777,282.5 C799.934,292.9496 820.0342,301.4461 842.1822,310.4437 \" fill=\"none\" id=\"detection-to-manualReaction\" style=\"stroke:#181818;stroke-width:1.0;\"/><polygon fill=\"#181818\" points=\"847.741,312.702,840.9083,305.6087,843.1087,310.8201,837.8973,313.0205,847.741,312.702\" style=\"stroke:#181818;stroke-width:1.0;\"/><text fill=\"#000000\" font-family=\"sans-serif\" font-size=\"13\" lengthAdjust=\"spacing\" textLength=\"56\" x=\"654\" y=\"205.5669\">Manualni</text></g><!--link automaticReaction to systemIntervention--><g id=\"link_automaticReaction_systemIntervention\"><path d=\"M1014.64,110.639 C1080.37,102.33 1156.4574,92.7094 1215.7774,85.2114 \" fill=\"none\" id=\"automaticReaction-to-systemIntervention\" style=\"stroke:#181818;stroke-width:1.0;\"/><polygon fill=\"#181818\" points=\"1221.73,84.459,1212.2994,81.6192,1216.7695,85.086,1213.3027,89.556,1221.73,84.459\" style=\"stroke:#181818;stroke-width:1.0;\"/><text fill=\"#000000\" font-family=\"sans-serif\" font-size=\"13\" lengthAdjust=\"spacing\" textLength=\"60\" x=\"1082.5\" y=\"88.5669\">Potvrzeni</text></g><!--link manualReaction to employeeIntervention--><g id=\"link_manualReaction_employeeIntervention\"><path d=\"M990.331,318.3185 C1058.11,305.4643 1146.3951,288.7239 1213.1451,276.0655 \" fill=\"none\" id=\"manualReaction-to-employeeIntervention\" style=\"stroke:#181818;stroke-width:1.0;\"/><polygon fill=\"#181818\" points=\"1219.04,274.9476,1209.4523,272.6945,1214.1276,275.8792,1210.9429,280.5544,1219.04,274.9476\" style=\"stroke:#181818;stroke-width:1.0;\"/><text fill=\"#000000\" font-family=\"sans-serif\" font-size=\"13\" lengthAdjust=\"spacing\" textLength=\"101\" x=\"1062\" y=\"281.5669\">Vyzaduje zasah</text></g><!--link employee to manualReaction--><g id=\"link_employee_manualReaction\"><path d=\"M504.262,274.7338 C577.179,285.6633 710.8533,305.6994 803.9863,319.659 \" fill=\"none\" id=\"employee-to-manualReaction\" style=\"stroke:#181818;stroke-width:1.0;\"/><polygon fill=\"#181818\" points=\"809.92,320.5484,801.6124,315.2585,804.9752,319.8072,800.4265,323.1701,809.92,320.5484\" style=\"stroke:#181818;stroke-width:1.0;\"/><text fill=\"#000000\" font-family=\"sans-serif\" font-size=\"13\" lengthAdjust=\"spacing\" textLength=\"56\" x=\"654\" y=\"288.5669\">Manualni</text></g><!--link employee to employeeIntervention--><g id=\"link_employee_employeeIntervention\"><path d=\"M504.23,266.996 C606.729,265.9307 853.817,263.3924 1061,261.5 C1104.45,261.1031 1146.3402,260.7465 1187.7902,260.4048 \" fill=\"none\" id=\"employee-to-employeeIntervention\" style=\"stroke:#181818;stroke-width:1.0;\"/><polygon fill=\"#181818\" points=\"1193.79,260.3553,1184.7573,256.4296,1188.7902,260.3965,1184.8233,264.4294,1193.79,260.3553\" style=\"stroke:#181818;stroke-width:1.0;\"/><text fill=\"#000000\" font-family=\"sans-serif\" font-size=\"13\" lengthAdjust=\"spacing\" textLength=\"55\" x=\"876.5\" y=\"257.5669\">Vyvolani</text></g><!--link monitoringSystem to detection--><g id=\"link_monitoringSystem_detection\"><path d=\"M160.115,76.314 C170.069,80.031 180.21,83.54 190,86.5 C241.274,102 293.5942,113.346 342.2902,122.359 \" fill=\"none\" id=\"monitoringSystem-to-detection\" style=\"stroke:#181818;stroke-width:1.0;\"/><polygon fill=\"#181818\" points=\"348.19,123.451,340.0683,117.8798,343.2735,122.541,338.6123,125.7462,348.19,123.451\" style=\"stroke:#181818;stroke-width:1.0;\"/><text fill=\"#000000\" font-family=\"sans-serif\" font-size=\"13\" lengthAdjust=\"spacing\" textLength=\"82\" x=\"200.5\" y=\"82.5669\">Monitorovani</text></g><!--link monitoringSystem to systemIntervention--><g id=\"link_monitoringSystem_systemIntervention\"><path d=\"M160.296,44.435 C336.904,46.766 787.52,53.666 1164,67.5 C1179.77,68.079 1190.5672,68.5365 1206.7772,69.3305 \" fill=\"none\" id=\"monitoringSystem-to-systemIntervention\" style=\"stroke:#181818;stroke-width:1.0;\"/><polygon fill=\"#181818\" points=\"1212.77,69.624,1203.9765,65.1885,1207.776,69.3794,1203.5851,73.1789,1212.77,69.624\" style=\"stroke:#181818;stroke-width:1.0;\"/><text fill=\"#000000\" font-family=\"sans-serif\" font-size=\"13\" lengthAdjust=\"spacing\" textLength=\"128\" x=\"618\" y=\"48.5669\">Automaticka reakce</text></g><!--SRC=[XPB1JiCm38RlUGfhzxq01oGaBZiC8P0ux6RIdpMiTQR6ZRG-FMcwKjfkuXR5tsVPlrpXIqazDUvOAXMkWLNdnHYswXlQl70CYYZkj24E55rmwN-i7hX6K661pMNKvyfVWB7-VaboJRMNtlAHnMNk-k7aE136j06M0sZp3CN9WWIVwCwmWjAJBIUtIC0muw_prAglMPqzCJNWh3Er1LS-Q9Pu9Dx02tdFqd8bxevPv_9QEt3WOIhgnXGiPYdiHD54o5qnvENRB0tlcMAkQTDs-pYjJG-q4sSTszJXEgcPgZsxsZOvKqPOqFCD4pecOjPzUduzQN9UlSQcGv8MxNhZLY39-RXqNBJVI06cI8mPiN-ccc5tMqTVfOYDMPxQAipzd-EyJTzSU7rpFm00]--></g></svg>"
     },
     "execution_count": 20,
     "metadata": {},
     "output_type": "execute_result"
    }
   ],
   "source": [
    "%%plantuml\n",
    "@startuml\n",
    "\n",
    "left to right direction\n",
    "\n",
    "actor \"Navstevnik\" as visitor\n",
    "actor \"Zamestnanec\" as employee\n",
    "actor \"System monitorovani\" as monitoringSystem\n",
    "\n",
    "usecase \"Detekce nebezpecneho chovani\" as detection\n",
    "usecase \"Automaticka reakce na udalost\" as automaticReaction\n",
    "usecase \"Manualni reakce na udalost\" as manualReaction\n",
    "usecase \"Zasahovani zamestnance\" as employeeIntervention\n",
    "usecase \"Zasahovani systemu\" as systemIntervention\n",
    "\n",
    "visitor --> detection : Iniciacni udalost\n",
    "detection --> automaticReaction : Automaticke\n",
    "detection --> manualReaction : Manualni\n",
    "automaticReaction --> systemIntervention : Potvrzeni\n",
    "manualReaction --> employeeIntervention : Vyzaduje zasah\n",
    "\n",
    "employee --> manualReaction : Manualni\n",
    "employee --> employeeIntervention : Vyvolani\n",
    "\n",
    "monitoringSystem --> detection : Monitorovani\n",
    "monitoringSystem --> systemIntervention : Automaticka reakce\n",
    "\n",
    "@enduml\n",
    "\n"
   ],
   "metadata": {
    "collapsed": false,
    "ExecuteTime": {
     "end_time": "2023-11-15T13:24:33.174971500Z",
     "start_time": "2023-11-15T13:24:30.388503200Z"
    }
   },
   "id": "6de298f3058f0c27"
  },
  {
   "cell_type": "code",
   "execution_count": 21,
   "outputs": [
    {
     "data": {
      "text/plain": "<IPython.core.display.SVG object>",
      "image/svg+xml": "<svg xmlns=\"http://www.w3.org/2000/svg\" xmlns:xlink=\"http://www.w3.org/1999/xlink\" contentStyleType=\"text/css\" height=\"290px\" preserveAspectRatio=\"none\" style=\"width:914px;height:290px;background:#FFFFFF;\" version=\"1.1\" viewBox=\"0 0 914 290\" width=\"914px\" zoomAndPan=\"magnify\"><defs/><g><!--entity Visitor--><g id=\"elem_Visitor\"><ellipse cx=\"45.5\" cy=\"116\" fill=\"#F1F1F1\" rx=\"8\" ry=\"8\" style=\"stroke:#181818;stroke-width:0.5;\"/><path d=\"M45.5,124 L45.5,151 M32.5,132 L58.5,132 M45.5,151 L32.5,166 M45.5,151 L58.5,166 \" fill=\"none\" style=\"stroke:#181818;stroke-width:0.5;\"/><text fill=\"#000000\" font-family=\"sans-serif\" font-size=\"14\" lengthAdjust=\"spacing\" textLength=\"79\" x=\"6\" y=\"180.4951\">Navstevnik</text></g><!--entity Employee--><g id=\"elem_Employee\"><ellipse cx=\"380\" cy=\"218\" fill=\"#F1F1F1\" rx=\"8\" ry=\"8\" style=\"stroke:#181818;stroke-width:0.5;\"/><path d=\"M380,226 L380,253 M367,234 L393,234 M380,253 L367,268 M380,253 L393,268 \" fill=\"none\" style=\"stroke:#181818;stroke-width:0.5;\"/><text fill=\"#000000\" font-family=\"sans-serif\" font-size=\"14\" lengthAdjust=\"spacing\" textLength=\"98\" x=\"331\" y=\"282.4951\">Zamestnanec</text></g><!--entity MonitoringSystem--><g id=\"elem_MonitoringSystem\"><ellipse cx=\"380\" cy=\"14\" fill=\"#F1F1F1\" rx=\"8\" ry=\"8\" style=\"stroke:#181818;stroke-width:0.5;\"/><path d=\"M380,22 L380,49 M367,30 L393,30 M380,49 L367,64 M380,49 L393,64 \" fill=\"none\" style=\"stroke:#181818;stroke-width:0.5;\"/><text fill=\"#000000\" font-family=\"sans-serif\" font-size=\"14\" lengthAdjust=\"spacing\" textLength=\"154\" x=\"303\" y=\"78.4951\">System monitorovani</text></g><g id=\"elem_Detection\"><ellipse cx=\"380.0975\" cy=\"145.3195\" fill=\"#F1F1F1\" rx=\"132.0975\" ry=\"28.8195\" style=\"stroke:#181818;stroke-width:0.5;\"/><text fill=\"#000000\" font-family=\"sans-serif\" font-size=\"14\" lengthAdjust=\"spacing\" textLength=\"233\" x=\"263.5975\" y=\"148.1662\">Detekce nebezpecneho chovani</text></g><g id=\"elem_AutomaticResponse\"><ellipse cx=\"781.8908\" cy=\"89.2782\" fill=\"#F1F1F1\" rx=\"126.8908\" ry=\"27.7782\" style=\"stroke:#181818;stroke-width:0.5;\"/><text fill=\"#000000\" font-family=\"sans-serif\" font-size=\"14\" lengthAdjust=\"spacing\" textLength=\"222\" x=\"670.8908\" y=\"92.1248\">Automaticka reakce na udalost</text></g><g id=\"elem_ManualResponse\"><ellipse cx=\"781.8359\" cy=\"202.4672\" fill=\"#F1F1F1\" rx=\"112.8359\" ry=\"24.9672\" style=\"stroke:#181818;stroke-width:0.5;\"/><text fill=\"#000000\" font-family=\"sans-serif\" font-size=\"14\" lengthAdjust=\"spacing\" textLength=\"192\" x=\"685.8359\" y=\"205.3139\">Manualni reakce na udalost</text></g><!--link Visitor to Detection--><g id=\"link_Visitor_Detection\"><path d=\"M85.2927,145.5 C125.208,145.5 183.619,145.5 241.966,145.5 \" fill=\"none\" id=\"Visitor-to-Detection\" style=\"stroke:#181818;stroke-width:1.0;\"/><polygon fill=\"#181818\" points=\"247.966,145.5,238.966,141.5,242.966,145.5,238.966,149.5,247.966,145.5\" style=\"stroke:#181818;stroke-width:1.0;\"/><text fill=\"#000000\" font-family=\"sans-serif\" font-size=\"13\" lengthAdjust=\"spacing\" textLength=\"101\" x=\"116\" y=\"141.5669\">Iniciacni udalost</text></g><!--link Detection to AutomaticResponse--><g id=\"link_Detection_AutomaticResponse\"><path d=\"M491.626,130.012 C548.623,122.033 611.8699,113.1779 668.2999,105.2779 \" fill=\"none\" id=\"Detection-to-AutomaticResponse\" style=\"stroke:#181818;stroke-width:1.0;\"/><polygon fill=\"#181818\" points=\"674.242,104.446,664.7743,101.7324,669.2903,105.1392,665.8835,109.6552,674.242,104.446\" style=\"stroke:#181818;stroke-width:1.0;\"/><text fill=\"#000000\" font-family=\"sans-serif\" font-size=\"13\" lengthAdjust=\"spacing\" textLength=\"81\" x=\"543\" y=\"108.5669\">Automaticke</text></g><!--link Detection to ManualResponse--><g id=\"link_Detection_ManualResponse\"><path d=\"M491.096,161.189 C552.38,169.922 621.948,179.8345 680.537,188.184 \" fill=\"none\" id=\"Detection-to-ManualResponse\" style=\"stroke:#181818;stroke-width:1.0;\"/><polygon fill=\"#181818\" points=\"686.477,189.0305,678.1314,183.8008,681.527,188.3251,677.0027,191.7207,686.477,189.0305\" style=\"stroke:#181818;stroke-width:1.0;\"/><text fill=\"#000000\" font-family=\"sans-serif\" font-size=\"13\" lengthAdjust=\"spacing\" textLength=\"56\" x=\"555.5\" y=\"164.5669\">Manualni</text></g><!--link Employee to ManualResponse--><g id=\"link_Employee_ManualResponse\"><path d=\"M429.397,249.4334 C478.809,250.6768 557.607,250.6388 625,241.5 C654.738,237.4673 681.2145,231.5013 708.6475,224.1306 \" fill=\"none\" id=\"Employee-to-ManualResponse\" style=\"stroke:#181818;stroke-width:1.0;\"/><polygon fill=\"#181818\" points=\"714.442,222.5737,704.7123,221.046,709.6133,223.8711,706.7882,228.772,714.442,222.5737\" style=\"stroke:#181818;stroke-width:1.0;\"/><text fill=\"#000000\" font-family=\"sans-serif\" font-size=\"13\" lengthAdjust=\"spacing\" textLength=\"56\" x=\"555.5\" y=\"237.5669\">Manualni</text></g><!--link MonitoringSystem to AutomaticResponse--><g id=\"link_MonitoringSystem_AutomaticResponse\"><path d=\"M457.178,52.261 C517.133,59.155 595.6023,68.1795 663.2193,75.9555 \" fill=\"none\" id=\"MonitoringSystem-to-AutomaticResponse\" style=\"stroke:#181818;stroke-width:1.0;\"/><polygon fill=\"#181818\" points=\"669.18,76.641,660.6959,71.639,664.2127,76.0698,659.7819,79.5866,669.18,76.641\" style=\"stroke:#181818;stroke-width:1.0;\"/><text fill=\"#000000\" font-family=\"sans-serif\" font-size=\"13\" lengthAdjust=\"spacing\" textLength=\"81\" x=\"543\" y=\"58.5669\">Automaticke</text></g><!--SRC=[ZP2nJiD038RtUmehUr-00Gc93Wnb08c1pRYciPApevmJgJnzBqcJ4qK8Ll_VT_VhR_dJmGrwETKEH-cPN4n3G7BheNh6CJcFAaq5cE1DakJxchvZvEIAoZJ7-zYrTcPUyzTpbYD4qyco4LLcxh0SH4yB4SAGc30nL8_it123yWT_TKpAjG7LnPs0fUFcF0nk4LseGUWPPnrXE69hoMTf8ruuTQQ9Ytn07R1L-SLSuaqBrmLWjxilLU0EdbH8aF8xLpkKT69_DCXEwSqtzFTVCxgs3El4Vs2t2_-dmmK0]--></g></svg>"
     },
     "execution_count": 21,
     "metadata": {},
     "output_type": "execute_result"
    }
   ],
   "source": [
    "%%plantuml\n",
    "@startuml\n",
    "\n",
    "left to right direction\n",
    "\n",
    "actor \"Navstevnik\" as Visitor\n",
    "actor \"Zamestnanec\" as Employee\n",
    "actor \"System monitorovani\" as MonitoringSystem\n",
    "\n",
    "usecase \"Detekce nebezpecneho chovani\" as Detection\n",
    "usecase \"Automaticka reakce na udalost\" as AutomaticResponse\n",
    "usecase \"Manualni reakce na udalost\" as ManualResponse\n",
    "\n",
    "Visitor --> Detection : Iniciacni udalost\n",
    "Detection --> AutomaticResponse : Automaticke\n",
    "Detection --> ManualResponse : Manualni\n",
    "Employee --> ManualResponse : Manualni\n",
    "MonitoringSystem --> AutomaticResponse : Automaticke\n",
    "\n",
    "@enduml\n"
   ],
   "metadata": {
    "collapsed": false,
    "ExecuteTime": {
     "end_time": "2023-11-15T13:29:01.858297400Z",
     "start_time": "2023-11-15T13:28:58.781558400Z"
    }
   },
   "id": "779cc14801dd2c39"
  },
  {
   "cell_type": "code",
   "execution_count": 15,
   "outputs": [
    {
     "data": {
      "text/plain": "<IPython.core.display.SVG object>",
      "image/svg+xml": "<svg xmlns=\"http://www.w3.org/2000/svg\" xmlns:xlink=\"http://www.w3.org/1999/xlink\" contentStyleType=\"text/css\" height=\"941px\" preserveAspectRatio=\"none\" style=\"width:670px;height:941px;background:#FFFFFF;\" version=\"1.1\" viewBox=\"0 0 670 941\" width=\"670px\" zoomAndPan=\"magnify\"><defs/><g><text fill=\"#000000\" font-family=\"sans-serif\" font-size=\"14\" font-weight=\"bold\" lengthAdjust=\"spacing\" textLength=\"178\" x=\"239.0755\" y=\"22.9951\">Movement of Prisoner</text><!--class Rozvrh--><g id=\"elem_Rozvrh\"><rect codeLine=\"4\" fill=\"#F1F1F1\" height=\"80.5938\" id=\"Rozvrh\" rx=\"2.5\" ry=\"2.5\" style=\"stroke:#181818;stroke-width:0.5;\" width=\"108\" x=\"108.1511\" y=\"854.2969\"/><ellipse cx=\"134.8511\" cy=\"870.2969\" fill=\"#ADD1B2\" rx=\"11\" ry=\"11\" style=\"stroke:#181818;stroke-width:1.0;\"/><path d=\"M137.1949,865.9688 C136.2574,865.5313 135.6636,865.3906 134.7886,865.3906 C132.1636,865.3906 130.1636,867.4688 130.1636,870.1875 L130.1636,871.3125 C130.1636,873.8906 132.273,875.7813 135.1636,875.7813 C136.3824,875.7813 137.5386,875.4844 138.2886,874.9375 C138.8667,874.5313 139.1949,874.0781 139.1949,873.6875 C139.1949,873.2344 138.8042,872.8438 138.3355,872.8438 C138.1167,872.8438 137.9136,872.9219 137.7261,873.1094 C137.273,873.5938 137.273,873.5938 137.0855,873.6875 C136.6636,873.9531 135.9761,874.0781 135.2105,874.0781 C133.1636,874.0781 131.8667,872.9844 131.8667,871.2813 L131.8667,870.1875 C131.8667,868.4063 133.1167,867.0938 134.8511,867.0938 C135.4292,867.0938 136.0386,867.25 136.5074,867.5 C136.9917,867.7813 137.1636,868 137.2574,868.4063 C137.3199,868.8125 137.3511,868.9375 137.4917,869.0625 C137.6324,869.2031 137.8667,869.3125 138.0855,869.3125 C138.3511,869.3125 138.6167,869.1719 138.7886,868.9531 C138.898,868.7969 138.9292,868.6094 138.9292,868.1875 L138.9292,866.7656 C138.9292,866.3281 138.9136,866.2031 138.8199,866.0469 C138.6636,865.7813 138.3824,865.6406 138.0855,865.6406 C137.7886,865.6406 137.5855,865.7344 137.3667,866.0469 L137.1949,865.9688 Z \" fill=\"#000000\"/><text fill=\"#000000\" font-family=\"sans-serif\" font-size=\"14\" lengthAdjust=\"spacing\" textLength=\"50\" x=\"151.4511\" y=\"875.1436\">Rozvrh</text><line style=\"stroke:#181818;stroke-width:0.5;\" x1=\"109.1511\" x2=\"215.1511\" y1=\"886.2969\" y2=\"886.2969\"/><ellipse cx=\"119.1511\" cy=\"899.9453\" fill=\"none\" rx=\"3\" ry=\"3\" style=\"stroke:#038048;stroke-width:1.0;\"/><text fill=\"#000000\" font-family=\"sans-serif\" font-size=\"14\" lengthAdjust=\"spacing\" textLength=\"82\" x=\"128.1511\" y=\"903.292\">String time</text><ellipse cx=\"119.1511\" cy=\"916.2422\" fill=\"none\" rx=\"3\" ry=\"3\" style=\"stroke:#038048;stroke-width:1.0;\"/><text fill=\"#000000\" font-family=\"sans-serif\" font-size=\"14\" lengthAdjust=\"spacing\" textLength=\"81\" x=\"128.1511\" y=\"919.5889\">String date</text><line style=\"stroke:#181818;stroke-width:0.5;\" x1=\"109.1511\" x2=\"215.1511\" y1=\"926.8906\" y2=\"926.8906\"/></g><!--class Prisoner--><g id=\"elem_Prisoner\"><rect codeLine=\"9\" fill=\"#F1F1F1\" height=\"145.7813\" id=\"Prisoner\" rx=\"2.5\" ry=\"2.5\" style=\"stroke:#181818;stroke-width:0.5;\" width=\"167\" x=\"78.6511\" y=\"631.2969\"/><ellipse cx=\"128.4011\" cy=\"647.2969\" fill=\"#ADD1B2\" rx=\"11\" ry=\"11\" style=\"stroke:#181818;stroke-width:1.0;\"/><path d=\"M130.7448,642.9688 C129.8073,642.5313 129.2136,642.3906 128.3386,642.3906 C125.7136,642.3906 123.7136,644.4688 123.7136,647.1875 L123.7136,648.3125 C123.7136,650.8906 125.823,652.7813 128.7136,652.7813 C129.9323,652.7813 131.0886,652.4844 131.8386,651.9375 C132.4167,651.5313 132.7448,651.0781 132.7448,650.6875 C132.7448,650.2344 132.3542,649.8438 131.8855,649.8438 C131.6667,649.8438 131.4636,649.9219 131.2761,650.1094 C130.823,650.5938 130.823,650.5938 130.6355,650.6875 C130.2136,650.9531 129.5261,651.0781 128.7605,651.0781 C126.7136,651.0781 125.4167,649.9844 125.4167,648.2813 L125.4167,647.1875 C125.4167,645.4063 126.6667,644.0938 128.4011,644.0938 C128.9792,644.0938 129.5886,644.25 130.0573,644.5 C130.5417,644.7813 130.7136,645 130.8073,645.4063 C130.8698,645.8125 130.9011,645.9375 131.0417,646.0625 C131.1823,646.2031 131.4167,646.3125 131.6355,646.3125 C131.9011,646.3125 132.1667,646.1719 132.3386,645.9531 C132.448,645.7969 132.4792,645.6094 132.4792,645.1875 L132.4792,643.7656 C132.4792,643.3281 132.4636,643.2031 132.3698,643.0469 C132.2136,642.7813 131.9323,642.6406 131.6355,642.6406 C131.3386,642.6406 131.1355,642.7344 130.9167,643.0469 L130.7448,642.9688 Z \" fill=\"#000000\"/><text fill=\"#000000\" font-family=\"sans-serif\" font-size=\"14\" lengthAdjust=\"spacing\" textLength=\"59\" x=\"148.9011\" y=\"652.1436\">Prisoner</text><line style=\"stroke:#181818;stroke-width:0.5;\" x1=\"79.6511\" x2=\"244.6511\" y1=\"663.2969\" y2=\"663.2969\"/><ellipse cx=\"89.6511\" cy=\"676.9453\" fill=\"none\" rx=\"3\" ry=\"3\" style=\"stroke:#038048;stroke-width:1.0;\"/><text fill=\"#000000\" font-family=\"sans-serif\" font-size=\"14\" lengthAdjust=\"spacing\" textLength=\"88\" x=\"98.6511\" y=\"680.292\">String name</text><ellipse cx=\"89.6511\" cy=\"693.2422\" fill=\"none\" rx=\"3\" ry=\"3\" style=\"stroke:#038048;stroke-width:1.0;\"/><text fill=\"#000000\" font-family=\"sans-serif\" font-size=\"14\" lengthAdjust=\"spacing\" textLength=\"109\" x=\"98.6511\" y=\"696.5889\">String surname</text><ellipse cx=\"89.6511\" cy=\"709.5391\" fill=\"none\" rx=\"3\" ry=\"3\" style=\"stroke:#038048;stroke-width:1.0;\"/><text fill=\"#000000\" font-family=\"sans-serif\" font-size=\"14\" lengthAdjust=\"spacing\" textLength=\"119\" x=\"98.6511\" y=\"712.8857\">String birthDate</text><ellipse cx=\"89.6511\" cy=\"725.8359\" fill=\"none\" rx=\"3\" ry=\"3\" style=\"stroke:#038048;stroke-width:1.0;\"/><text fill=\"#000000\" font-family=\"sans-serif\" font-size=\"14\" lengthAdjust=\"spacing\" textLength=\"122\" x=\"98.6511\" y=\"729.1826\">String birthPlace</text><ellipse cx=\"89.6511\" cy=\"742.1328\" fill=\"none\" rx=\"3\" ry=\"3\" style=\"stroke:#038048;stroke-width:1.0;\"/><text fill=\"#000000\" font-family=\"sans-serif\" font-size=\"14\" lengthAdjust=\"spacing\" textLength=\"141\" x=\"98.6511\" y=\"745.4795\">String birthNumber</text><ellipse cx=\"89.6511\" cy=\"758.4297\" fill=\"none\" rx=\"3\" ry=\"3\" style=\"stroke:#038048;stroke-width:1.0;\"/><text fill=\"#000000\" font-family=\"sans-serif\" font-size=\"14\" lengthAdjust=\"spacing\" textLength=\"103\" x=\"98.6511\" y=\"761.7764\">String address</text><line style=\"stroke:#181818;stroke-width:0.5;\" x1=\"79.6511\" x2=\"244.6511\" y1=\"769.0781\" y2=\"769.0781\"/></g><!--class VykonTrestu--><g id=\"elem_VykonTrestu\"><rect codeLine=\"18\" fill=\"#F1F1F1\" height=\"96.8906\" id=\"VykonTrestu\" rx=\"2.5\" ry=\"2.5\" style=\"stroke:#181818;stroke-width:0.5;\" width=\"123\" x=\"248.6511\" y=\"457.2969\"/><ellipse cx=\"263.6511\" cy=\"473.2969\" fill=\"#ADD1B2\" rx=\"11\" ry=\"11\" style=\"stroke:#181818;stroke-width:1.0;\"/><path d=\"M265.9949,468.9688 C265.0574,468.5313 264.4636,468.3906 263.5886,468.3906 C260.9636,468.3906 258.9636,470.4688 258.9636,473.1875 L258.9636,474.3125 C258.9636,476.8906 261.073,478.7813 263.9636,478.7813 C265.1824,478.7813 266.3386,478.4844 267.0886,477.9375 C267.6667,477.5313 267.9949,477.0781 267.9949,476.6875 C267.9949,476.2344 267.6042,475.8438 267.1355,475.8438 C266.9167,475.8438 266.7136,475.9219 266.5261,476.1094 C266.073,476.5938 266.073,476.5938 265.8855,476.6875 C265.4636,476.9531 264.7761,477.0781 264.0105,477.0781 C261.9636,477.0781 260.6667,475.9844 260.6667,474.2813 L260.6667,473.1875 C260.6667,471.4063 261.9167,470.0938 263.6511,470.0938 C264.2292,470.0938 264.8386,470.25 265.3074,470.5 C265.7917,470.7813 265.9636,471 266.0574,471.4063 C266.1199,471.8125 266.1511,471.9375 266.2917,472.0625 C266.4324,472.2031 266.6667,472.3125 266.8855,472.3125 C267.1511,472.3125 267.4167,472.1719 267.5886,471.9531 C267.698,471.7969 267.7292,471.6094 267.7292,471.1875 L267.7292,469.7656 C267.7292,469.3281 267.7136,469.2031 267.6199,469.0469 C267.4636,468.7813 267.1824,468.6406 266.8855,468.6406 C266.5886,468.6406 266.3855,468.7344 266.1667,469.0469 L265.9949,468.9688 Z \" fill=\"#000000\"/><text fill=\"#000000\" font-family=\"sans-serif\" font-size=\"14\" lengthAdjust=\"spacing\" textLength=\"91\" x=\"277.6511\" y=\"478.1436\">VykonTrestu</text><line style=\"stroke:#181818;stroke-width:0.5;\" x1=\"249.6511\" x2=\"370.6511\" y1=\"489.2969\" y2=\"489.2969\"/><ellipse cx=\"259.6511\" cy=\"502.9453\" fill=\"none\" rx=\"3\" ry=\"3\" style=\"stroke:#038048;stroke-width:1.0;\"/><text fill=\"#000000\" font-family=\"sans-serif\" font-size=\"14\" lengthAdjust=\"spacing\" textLength=\"81\" x=\"268.6511\" y=\"506.292\">String date</text><ellipse cx=\"259.6511\" cy=\"519.2422\" fill=\"none\" rx=\"3\" ry=\"3\" style=\"stroke:#038048;stroke-width:1.0;\"/><text fill=\"#000000\" font-family=\"sans-serif\" font-size=\"14\" lengthAdjust=\"spacing\" textLength=\"82\" x=\"268.6511\" y=\"522.5889\">String time</text><ellipse cx=\"259.6511\" cy=\"535.5391\" fill=\"none\" rx=\"3\" ry=\"3\" style=\"stroke:#038048;stroke-width:1.0;\"/><text fill=\"#000000\" font-family=\"sans-serif\" font-size=\"14\" lengthAdjust=\"spacing\" textLength=\"82\" x=\"268.6511\" y=\"538.8857\">String type</text><line style=\"stroke:#181818;stroke-width:0.5;\" x1=\"249.6511\" x2=\"370.6511\" y1=\"546.1875\" y2=\"546.1875\"/></g><!--class Trest--><g id=\"elem_Trest\"><rect codeLine=\"25\" fill=\"#F1F1F1\" height=\"113.1875\" id=\"Trest\" rx=\"2.5\" ry=\"2.5\" style=\"stroke:#181818;stroke-width:0.5;\" width=\"134\" x=\"529.1511\" y=\"267.2969\"/><ellipse cx=\"572.9511\" cy=\"283.2969\" fill=\"#ADD1B2\" rx=\"11\" ry=\"11\" style=\"stroke:#181818;stroke-width:1.0;\"/><path d=\"M575.2948,278.9688 C574.3573,278.5313 573.7636,278.3906 572.8886,278.3906 C570.2636,278.3906 568.2636,280.4688 568.2636,283.1875 L568.2636,284.3125 C568.2636,286.8906 570.373,288.7813 573.2636,288.7813 C574.4823,288.7813 575.6386,288.4844 576.3886,287.9375 C576.9667,287.5313 577.2948,287.0781 577.2948,286.6875 C577.2948,286.2344 576.9042,285.8438 576.4355,285.8438 C576.2167,285.8438 576.0136,285.9219 575.8261,286.1094 C575.373,286.5938 575.373,286.5938 575.1855,286.6875 C574.7636,286.9531 574.0761,287.0781 573.3105,287.0781 C571.2636,287.0781 569.9667,285.9844 569.9667,284.2813 L569.9667,283.1875 C569.9667,281.4063 571.2167,280.0938 572.9511,280.0938 C573.5292,280.0938 574.1386,280.25 574.6073,280.5 C575.0917,280.7813 575.2636,281 575.3573,281.4063 C575.4198,281.8125 575.4511,281.9375 575.5917,282.0625 C575.7323,282.2031 575.9667,282.3125 576.1855,282.3125 C576.4511,282.3125 576.7167,282.1719 576.8886,281.9531 C576.998,281.7969 577.0292,281.6094 577.0292,281.1875 L577.0292,279.7656 C577.0292,279.3281 577.0136,279.2031 576.9198,279.0469 C576.7636,278.7813 576.4823,278.6406 576.1855,278.6406 C575.8886,278.6406 575.6855,278.7344 575.4667,279.0469 L575.2948,278.9688 Z \" fill=\"#000000\"/><text fill=\"#000000\" font-family=\"sans-serif\" font-size=\"14\" lengthAdjust=\"spacing\" textLength=\"38\" x=\"593.3511\" y=\"288.1436\">Trest</text><line style=\"stroke:#181818;stroke-width:0.5;\" x1=\"530.1511\" x2=\"662.1511\" y1=\"299.2969\" y2=\"299.2969\"/><ellipse cx=\"540.1511\" cy=\"312.9453\" fill=\"none\" rx=\"3\" ry=\"3\" style=\"stroke:#038048;stroke-width:1.0;\"/><text fill=\"#000000\" font-family=\"sans-serif\" font-size=\"14\" lengthAdjust=\"spacing\" textLength=\"82\" x=\"549.1511\" y=\"316.292\">String type</text><ellipse cx=\"540.1511\" cy=\"329.2422\" fill=\"none\" rx=\"3\" ry=\"3\" style=\"stroke:#038048;stroke-width:1.0;\"/><text fill=\"#000000\" font-family=\"sans-serif\" font-size=\"14\" lengthAdjust=\"spacing\" textLength=\"81\" x=\"549.1511\" y=\"332.5889\">String date</text><ellipse cx=\"540.1511\" cy=\"345.5391\" fill=\"none\" rx=\"3\" ry=\"3\" style=\"stroke:#038048;stroke-width:1.0;\"/><text fill=\"#000000\" font-family=\"sans-serif\" font-size=\"14\" lengthAdjust=\"spacing\" textLength=\"82\" x=\"549.1511\" y=\"348.8857\">String time</text><ellipse cx=\"540.1511\" cy=\"361.8359\" fill=\"none\" rx=\"3\" ry=\"3\" style=\"stroke:#038048;stroke-width:1.0;\"/><text fill=\"#000000\" font-family=\"sans-serif\" font-size=\"14\" lengthAdjust=\"spacing\" textLength=\"108\" x=\"549.1511\" y=\"365.1826\">String duration</text><line style=\"stroke:#181818;stroke-width:0.5;\" x1=\"530.1511\" x2=\"662.1511\" y1=\"372.4844\" y2=\"372.4844\"/></g><!--class Room--><g id=\"elem_Room\"><rect codeLine=\"33\" fill=\"#F1F1F1\" height=\"96.8906\" id=\"Room\" rx=\"2.5\" ry=\"2.5\" style=\"stroke:#181818;stroke-width:0.5;\" width=\"135\" x=\"44.6511\" y=\"275.2969\"/><ellipse cx=\"87.1011\" cy=\"291.2969\" fill=\"#ADD1B2\" rx=\"11\" ry=\"11\" style=\"stroke:#181818;stroke-width:1.0;\"/><path d=\"M89.4449,286.9688 C88.5074,286.5313 87.9136,286.3906 87.0386,286.3906 C84.4136,286.3906 82.4136,288.4688 82.4136,291.1875 L82.4136,292.3125 C82.4136,294.8906 84.523,296.7813 87.4136,296.7813 C88.6324,296.7813 89.7886,296.4844 90.5386,295.9375 C91.1167,295.5313 91.4449,295.0781 91.4449,294.6875 C91.4449,294.2344 91.0542,293.8438 90.5855,293.8438 C90.3667,293.8438 90.1636,293.9219 89.9761,294.1094 C89.523,294.5938 89.523,294.5938 89.3355,294.6875 C88.9136,294.9531 88.2261,295.0781 87.4605,295.0781 C85.4136,295.0781 84.1167,293.9844 84.1167,292.2813 L84.1167,291.1875 C84.1167,289.4063 85.3667,288.0938 87.1011,288.0938 C87.6792,288.0938 88.2886,288.25 88.7574,288.5 C89.2417,288.7813 89.4136,289 89.5074,289.4063 C89.5699,289.8125 89.6011,289.9375 89.7417,290.0625 C89.8824,290.2031 90.1167,290.3125 90.3355,290.3125 C90.6011,290.3125 90.8667,290.1719 91.0386,289.9531 C91.148,289.7969 91.1792,289.6094 91.1792,289.1875 L91.1792,287.7656 C91.1792,287.3281 91.1636,287.2031 91.0699,287.0469 C90.9136,286.7813 90.6324,286.6406 90.3355,286.6406 C90.0386,286.6406 89.8355,286.7344 89.6167,287.0469 L89.4449,286.9688 Z \" fill=\"#000000\"/><text fill=\"#000000\" font-family=\"sans-serif\" font-size=\"14\" lengthAdjust=\"spacing\" textLength=\"42\" x=\"107.2011\" y=\"296.1436\">Room</text><line style=\"stroke:#181818;stroke-width:0.5;\" x1=\"45.6511\" x2=\"178.6511\" y1=\"307.2969\" y2=\"307.2969\"/><ellipse cx=\"55.6511\" cy=\"320.9453\" fill=\"none\" rx=\"3\" ry=\"3\" style=\"stroke:#038048;stroke-width:1.0;\"/><text fill=\"#000000\" font-family=\"sans-serif\" font-size=\"14\" lengthAdjust=\"spacing\" textLength=\"104\" x=\"64.6511\" y=\"324.292\">String number</text><ellipse cx=\"55.6511\" cy=\"337.2422\" fill=\"none\" rx=\"3\" ry=\"3\" style=\"stroke:#038048;stroke-width:1.0;\"/><text fill=\"#000000\" font-family=\"sans-serif\" font-size=\"14\" lengthAdjust=\"spacing\" textLength=\"109\" x=\"64.6511\" y=\"340.5889\">String capacity</text><ellipse cx=\"55.6511\" cy=\"353.5391\" fill=\"none\" rx=\"3\" ry=\"3\" style=\"stroke:#038048;stroke-width:1.0;\"/><text fill=\"#000000\" font-family=\"sans-serif\" font-size=\"14\" lengthAdjust=\"spacing\" textLength=\"82\" x=\"64.6511\" y=\"356.8857\">String type</text><line style=\"stroke:#181818;stroke-width:0.5;\" x1=\"45.6511\" x2=\"178.6511\" y1=\"364.1875\" y2=\"364.1875\"/></g><!--class Zamestnanec--><g id=\"elem_Zamestnanec\"><rect codeLine=\"39\" fill=\"#F1F1F1\" height=\"145.7813\" id=\"Zamestnanec\" rx=\"2.5\" ry=\"2.5\" style=\"stroke:#181818;stroke-width:0.5;\" width=\"167\" x=\"237.6511\" y=\"44.2969\"/><ellipse cx=\"269.3011\" cy=\"60.2969\" fill=\"#ADD1B2\" rx=\"11\" ry=\"11\" style=\"stroke:#181818;stroke-width:1.0;\"/><path d=\"M271.6449,55.9688 C270.7074,55.5313 270.1136,55.3906 269.2386,55.3906 C266.6136,55.3906 264.6136,57.4688 264.6136,60.1875 L264.6136,61.3125 C264.6136,63.8906 266.723,65.7813 269.6136,65.7813 C270.8324,65.7813 271.9886,65.4844 272.7386,64.9375 C273.3167,64.5313 273.6449,64.0781 273.6449,63.6875 C273.6449,63.2344 273.2542,62.8438 272.7855,62.8438 C272.5667,62.8438 272.3636,62.9219 272.1761,63.1094 C271.723,63.5938 271.723,63.5938 271.5355,63.6875 C271.1136,63.9531 270.4261,64.0781 269.6605,64.0781 C267.6136,64.0781 266.3167,62.9844 266.3167,61.2813 L266.3167,60.1875 C266.3167,58.4063 267.5667,57.0938 269.3011,57.0938 C269.8792,57.0938 270.4886,57.25 270.9574,57.5 C271.4417,57.7813 271.6136,58 271.7074,58.4063 C271.7699,58.8125 271.8011,58.9375 271.9417,59.0625 C272.0824,59.2031 272.3167,59.3125 272.5355,59.3125 C272.8011,59.3125 273.0667,59.1719 273.2386,58.9531 C273.348,58.7969 273.3792,58.6094 273.3792,58.1875 L273.3792,56.7656 C273.3792,56.3281 273.3636,56.2031 273.2699,56.0469 C273.1136,55.7813 272.8324,55.6406 272.5355,55.6406 C272.2386,55.6406 272.0355,55.7344 271.8167,56.0469 L271.6449,55.9688 Z \" fill=\"#000000\"/><text fill=\"#000000\" font-family=\"sans-serif\" font-size=\"14\" lengthAdjust=\"spacing\" textLength=\"98\" x=\"287.0011\" y=\"65.1436\">Zamestnanec</text><line style=\"stroke:#181818;stroke-width:0.5;\" x1=\"238.6511\" x2=\"403.6511\" y1=\"76.2969\" y2=\"76.2969\"/><ellipse cx=\"248.6511\" cy=\"89.9453\" fill=\"none\" rx=\"3\" ry=\"3\" style=\"stroke:#038048;stroke-width:1.0;\"/><text fill=\"#000000\" font-family=\"sans-serif\" font-size=\"14\" lengthAdjust=\"spacing\" textLength=\"88\" x=\"257.6511\" y=\"93.292\">String name</text><ellipse cx=\"248.6511\" cy=\"106.2422\" fill=\"none\" rx=\"3\" ry=\"3\" style=\"stroke:#038048;stroke-width:1.0;\"/><text fill=\"#000000\" font-family=\"sans-serif\" font-size=\"14\" lengthAdjust=\"spacing\" textLength=\"109\" x=\"257.6511\" y=\"109.5889\">String surname</text><ellipse cx=\"248.6511\" cy=\"122.5391\" fill=\"none\" rx=\"3\" ry=\"3\" style=\"stroke:#038048;stroke-width:1.0;\"/><text fill=\"#000000\" font-family=\"sans-serif\" font-size=\"14\" lengthAdjust=\"spacing\" textLength=\"119\" x=\"257.6511\" y=\"125.8857\">String birthDate</text><ellipse cx=\"248.6511\" cy=\"138.8359\" fill=\"none\" rx=\"3\" ry=\"3\" style=\"stroke:#038048;stroke-width:1.0;\"/><text fill=\"#000000\" font-family=\"sans-serif\" font-size=\"14\" lengthAdjust=\"spacing\" textLength=\"122\" x=\"257.6511\" y=\"142.1826\">String birthPlace</text><ellipse cx=\"248.6511\" cy=\"155.1328\" fill=\"none\" rx=\"3\" ry=\"3\" style=\"stroke:#038048;stroke-width:1.0;\"/><text fill=\"#000000\" font-family=\"sans-serif\" font-size=\"14\" lengthAdjust=\"spacing\" textLength=\"141\" x=\"257.6511\" y=\"158.4795\">String birthNumber</text><ellipse cx=\"248.6511\" cy=\"171.4297\" fill=\"none\" rx=\"3\" ry=\"3\" style=\"stroke:#038048;stroke-width:1.0;\"/><text fill=\"#000000\" font-family=\"sans-serif\" font-size=\"14\" lengthAdjust=\"spacing\" textLength=\"103\" x=\"257.6511\" y=\"174.7764\">String address</text><line style=\"stroke:#181818;stroke-width:0.5;\" x1=\"238.6511\" x2=\"403.6511\" y1=\"182.0781\" y2=\"182.0781\"/></g><!--class Pozice--><g id=\"elem_Pozice\"><rect codeLine=\"48\" fill=\"#F1F1F1\" height=\"64.2969\" id=\"Pozice\" rx=\"2.5\" ry=\"2.5\" style=\"stroke:#181818;stroke-width:0.5;\" width=\"114\" x=\"380.1511\" y=\"291.7969\"/><ellipse cx=\"410.9011\" cy=\"307.7969\" fill=\"#ADD1B2\" rx=\"11\" ry=\"11\" style=\"stroke:#181818;stroke-width:1.0;\"/><path d=\"M413.2449,303.4688 C412.3074,303.0313 411.7136,302.8906 410.8386,302.8906 C408.2136,302.8906 406.2136,304.9688 406.2136,307.6875 L406.2136,308.8125 C406.2136,311.3906 408.323,313.2813 411.2136,313.2813 C412.4324,313.2813 413.5886,312.9844 414.3386,312.4375 C414.9167,312.0313 415.2449,311.5781 415.2449,311.1875 C415.2449,310.7344 414.8542,310.3438 414.3855,310.3438 C414.1667,310.3438 413.9636,310.4219 413.7761,310.6094 C413.323,311.0938 413.323,311.0938 413.1355,311.1875 C412.7136,311.4531 412.0261,311.5781 411.2605,311.5781 C409.2136,311.5781 407.9167,310.4844 407.9167,308.7813 L407.9167,307.6875 C407.9167,305.9063 409.1667,304.5938 410.9011,304.5938 C411.4792,304.5938 412.0886,304.75 412.5574,305 C413.0417,305.2813 413.2136,305.5 413.3074,305.9063 C413.3699,306.3125 413.4011,306.4375 413.5417,306.5625 C413.6824,306.7031 413.9167,306.8125 414.1355,306.8125 C414.4011,306.8125 414.6667,306.6719 414.8386,306.4531 C414.948,306.2969 414.9792,306.1094 414.9792,305.6875 L414.9792,304.2656 C414.9792,303.8281 414.9636,303.7031 414.8699,303.5469 C414.7136,303.2813 414.4324,303.1406 414.1355,303.1406 C413.8386,303.1406 413.6355,303.2344 413.4167,303.5469 L413.2449,303.4688 Z \" fill=\"#000000\"/><text fill=\"#000000\" font-family=\"sans-serif\" font-size=\"14\" lengthAdjust=\"spacing\" textLength=\"47\" x=\"428.4011\" y=\"312.6436\">Pozice</text><line style=\"stroke:#181818;stroke-width:0.5;\" x1=\"381.1511\" x2=\"493.1511\" y1=\"323.7969\" y2=\"323.7969\"/><ellipse cx=\"391.1511\" cy=\"337.4453\" fill=\"none\" rx=\"3\" ry=\"3\" style=\"stroke:#038048;stroke-width:1.0;\"/><text fill=\"#000000\" font-family=\"sans-serif\" font-size=\"14\" lengthAdjust=\"spacing\" textLength=\"88\" x=\"400.1511\" y=\"340.792\">String name</text><line style=\"stroke:#181818;stroke-width:0.5;\" x1=\"381.1511\" x2=\"493.1511\" y1=\"348.0938\" y2=\"348.0938\"/></g><!--class Cip--><g id=\"elem_Cip\"><rect codeLine=\"52\" fill=\"#F1F1F1\" height=\"80.5938\" id=\"Cip\" rx=\"2.5\" ry=\"2.5\" style=\"stroke:#181818;stroke-width:0.5;\" width=\"130\" x=\"215.1511\" y=\"283.2969\"/><ellipse cx=\"263.9011\" cy=\"299.2969\" fill=\"#ADD1B2\" rx=\"11\" ry=\"11\" style=\"stroke:#181818;stroke-width:1.0;\"/><path d=\"M266.2449,294.9688 C265.3074,294.5313 264.7136,294.3906 263.8386,294.3906 C261.2136,294.3906 259.2136,296.4688 259.2136,299.1875 L259.2136,300.3125 C259.2136,302.8906 261.323,304.7813 264.2136,304.7813 C265.4324,304.7813 266.5886,304.4844 267.3386,303.9375 C267.9167,303.5313 268.2449,303.0781 268.2449,302.6875 C268.2449,302.2344 267.8542,301.8438 267.3855,301.8438 C267.1667,301.8438 266.9636,301.9219 266.7761,302.1094 C266.323,302.5938 266.323,302.5938 266.1355,302.6875 C265.7136,302.9531 265.0261,303.0781 264.2605,303.0781 C262.2136,303.0781 260.9167,301.9844 260.9167,300.2813 L260.9167,299.1875 C260.9167,297.4063 262.1667,296.0938 263.9011,296.0938 C264.4792,296.0938 265.0886,296.25 265.5574,296.5 C266.0417,296.7813 266.2136,297 266.3074,297.4063 C266.3699,297.8125 266.4011,297.9375 266.5417,298.0625 C266.6824,298.2031 266.9167,298.3125 267.1355,298.3125 C267.4011,298.3125 267.6667,298.1719 267.8386,297.9531 C267.948,297.7969 267.9792,297.6094 267.9792,297.1875 L267.9792,295.7656 C267.9792,295.3281 267.9636,295.2031 267.8699,295.0469 C267.7136,294.7813 267.4324,294.6406 267.1355,294.6406 C266.8386,294.6406 266.6355,294.7344 266.4167,295.0469 L266.2449,294.9688 Z \" fill=\"#000000\"/><text fill=\"#000000\" font-family=\"sans-serif\" font-size=\"14\" lengthAdjust=\"spacing\" textLength=\"24\" x=\"284.4011\" y=\"304.1436\">Cip</text><line style=\"stroke:#181818;stroke-width:0.5;\" x1=\"216.1511\" x2=\"344.1511\" y1=\"315.2969\" y2=\"315.2969\"/><ellipse cx=\"226.1511\" cy=\"328.9453\" fill=\"none\" rx=\"3\" ry=\"3\" style=\"stroke:#038048;stroke-width:1.0;\"/><text fill=\"#000000\" font-family=\"sans-serif\" font-size=\"14\" lengthAdjust=\"spacing\" textLength=\"104\" x=\"235.1511\" y=\"332.292\">String number</text><ellipse cx=\"226.1511\" cy=\"345.2422\" fill=\"none\" rx=\"3\" ry=\"3\" style=\"stroke:#038048;stroke-width:1.0;\"/><text fill=\"#000000\" font-family=\"sans-serif\" font-size=\"14\" lengthAdjust=\"spacing\" textLength=\"82\" x=\"235.1511\" y=\"348.5889\">String type</text><line style=\"stroke:#181818;stroke-width:0.5;\" x1=\"216.1511\" x2=\"344.1511\" y1=\"355.8906\" y2=\"355.8906\"/></g><!--class OcekavanaPoloha--><g id=\"elem_OcekavanaPoloha\"><rect codeLine=\"57\" fill=\"#F1F1F1\" height=\"96.8906\" id=\"OcekavanaPoloha\" rx=\"2.5\" ry=\"2.5\" style=\"stroke:#181818;stroke-width:0.5;\" width=\"158\" x=\"281.1511\" y=\"655.7969\"/><ellipse cx=\"296.1511\" cy=\"671.7969\" fill=\"#ADD1B2\" rx=\"11\" ry=\"11\" style=\"stroke:#181818;stroke-width:1.0;\"/><path d=\"M298.4949,667.4688 C297.5574,667.0313 296.9636,666.8906 296.0886,666.8906 C293.4636,666.8906 291.4636,668.9688 291.4636,671.6875 L291.4636,672.8125 C291.4636,675.3906 293.573,677.2813 296.4636,677.2813 C297.6824,677.2813 298.8386,676.9844 299.5886,676.4375 C300.1667,676.0313 300.4949,675.5781 300.4949,675.1875 C300.4949,674.7344 300.1042,674.3438 299.6355,674.3438 C299.4167,674.3438 299.2136,674.4219 299.0261,674.6094 C298.573,675.0938 298.573,675.0938 298.3855,675.1875 C297.9636,675.4531 297.2761,675.5781 296.5105,675.5781 C294.4636,675.5781 293.1667,674.4844 293.1667,672.7813 L293.1667,671.6875 C293.1667,669.9063 294.4167,668.5938 296.1511,668.5938 C296.7292,668.5938 297.3386,668.75 297.8074,669 C298.2917,669.2813 298.4636,669.5 298.5574,669.9063 C298.6199,670.3125 298.6511,670.4375 298.7917,670.5625 C298.9324,670.7031 299.1667,670.8125 299.3855,670.8125 C299.6511,670.8125 299.9167,670.6719 300.0886,670.4531 C300.198,670.2969 300.2292,670.1094 300.2292,669.6875 L300.2292,668.2656 C300.2292,667.8281 300.2136,667.7031 300.1199,667.5469 C299.9636,667.2813 299.6824,667.1406 299.3855,667.1406 C299.0886,667.1406 298.8855,667.2344 298.6667,667.5469 L298.4949,667.4688 Z \" fill=\"#000000\"/><text fill=\"#000000\" font-family=\"sans-serif\" font-size=\"14\" lengthAdjust=\"spacing\" textLength=\"126\" x=\"310.1511\" y=\"676.6436\">OcekavanaPoloha</text><line style=\"stroke:#181818;stroke-width:0.5;\" x1=\"282.1511\" x2=\"438.1511\" y1=\"687.7969\" y2=\"687.7969\"/><ellipse cx=\"292.1511\" cy=\"701.4453\" fill=\"none\" rx=\"3\" ry=\"3\" style=\"stroke:#038048;stroke-width:1.0;\"/><text fill=\"#000000\" font-family=\"sans-serif\" font-size=\"14\" lengthAdjust=\"spacing\" textLength=\"81\" x=\"301.1511\" y=\"704.792\">String date</text><ellipse cx=\"292.1511\" cy=\"717.7422\" fill=\"none\" rx=\"3\" ry=\"3\" style=\"stroke:#038048;stroke-width:1.0;\"/><text fill=\"#000000\" font-family=\"sans-serif\" font-size=\"14\" lengthAdjust=\"spacing\" textLength=\"82\" x=\"301.1511\" y=\"721.0889\">String time</text><ellipse cx=\"292.1511\" cy=\"734.0391\" fill=\"none\" rx=\"3\" ry=\"3\" style=\"stroke:#038048;stroke-width:1.0;\"/><text fill=\"#000000\" font-family=\"sans-serif\" font-size=\"14\" lengthAdjust=\"spacing\" textLength=\"82\" x=\"301.1511\" y=\"737.3857\">String type</text><line style=\"stroke:#181818;stroke-width:0.5;\" x1=\"282.1511\" x2=\"438.1511\" y1=\"744.6875\" y2=\"744.6875\"/></g><!--class Monitoring--><g id=\"elem_Monitoring\"><rect fill=\"#F1F1F1\" height=\"48\" id=\"Monitoring\" rx=\"2.5\" ry=\"2.5\" style=\"stroke:#181818;stroke-width:0.5;\" width=\"110\" x=\"103.1511\" y=\"481.7969\"/><ellipse cx=\"118.1511\" cy=\"497.7969\" fill=\"#ADD1B2\" rx=\"11\" ry=\"11\" style=\"stroke:#181818;stroke-width:1.0;\"/><path d=\"M120.4949,493.4688 C119.5574,493.0313 118.9636,492.8906 118.0886,492.8906 C115.4636,492.8906 113.4636,494.9688 113.4636,497.6875 L113.4636,498.8125 C113.4636,501.3906 115.573,503.2813 118.4636,503.2813 C119.6824,503.2813 120.8386,502.9844 121.5886,502.4375 C122.1667,502.0313 122.4949,501.5781 122.4949,501.1875 C122.4949,500.7344 122.1042,500.3438 121.6355,500.3438 C121.4167,500.3438 121.2136,500.4219 121.0261,500.6094 C120.573,501.0938 120.573,501.0938 120.3855,501.1875 C119.9636,501.4531 119.2761,501.5781 118.5105,501.5781 C116.4636,501.5781 115.1667,500.4844 115.1667,498.7813 L115.1667,497.6875 C115.1667,495.9063 116.4167,494.5938 118.1511,494.5938 C118.7292,494.5938 119.3386,494.75 119.8074,495 C120.2917,495.2813 120.4636,495.5 120.5574,495.9063 C120.6199,496.3125 120.6511,496.4375 120.7917,496.5625 C120.9324,496.7031 121.1667,496.8125 121.3855,496.8125 C121.6511,496.8125 121.9167,496.6719 122.0886,496.4531 C122.198,496.2969 122.2292,496.1094 122.2292,495.6875 L122.2292,494.2656 C122.2292,493.8281 122.2136,493.7031 122.1199,493.5469 C121.9636,493.2813 121.6824,493.1406 121.3855,493.1406 C121.0886,493.1406 120.8855,493.2344 120.6667,493.5469 L120.4949,493.4688 Z \" fill=\"#000000\"/><text fill=\"#000000\" font-family=\"sans-serif\" font-size=\"14\" lengthAdjust=\"spacing\" textLength=\"78\" x=\"132.1511\" y=\"502.6436\">Monitoring</text><line style=\"stroke:#181818;stroke-width:0.5;\" x1=\"104.1511\" x2=\"212.1511\" y1=\"513.7969\" y2=\"513.7969\"/><line style=\"stroke:#181818;stroke-width:0.5;\" x1=\"104.1511\" x2=\"212.1511\" y1=\"521.7969\" y2=\"521.7969\"/></g><!--link Prisoner to Rozvrh--><g id=\"link_Prisoner_Rozvrh\"><path codeLine=\"63\" d=\"M162.1511,777.3679 C162.1511,803.4549 162.1511,831.9459 162.1511,854.2143 \" fill=\"none\" id=\"Prisoner-Rozvrh\" style=\"stroke:#181818;stroke-width:1.0;\"/><text fill=\"#000000\" font-family=\"sans-serif\" font-size=\"13\" lengthAdjust=\"spacing\" textLength=\"96\" x=\"163.1511\" y=\"820.3638\">Kde se nachazi</text></g><!--link VykonTrestu to Prisoner--><g id=\"link_VykonTrestu_Prisoner\"><path codeLine=\"65\" d=\"M291.8271,554.7719 C284.8761,570.2759 276.1811,587.1109 266.1511,601.2969 C258.9241,611.5189 250.6031,621.6009 241.8821,631.2159 \" fill=\"none\" id=\"VykonTrestu-Prisoner\" style=\"stroke:#181818;stroke-width:1.0;\"/><text fill=\"#000000\" font-family=\"sans-serif\" font-size=\"13\" lengthAdjust=\"spacing\" textLength=\"98\" x=\"278.1511\" y=\"597.3638\">Vykonava trest</text></g><!--link Trest to VykonTrestu--><g id=\"link_Trest_VykonTrestu\"><path codeLine=\"67\" d=\"M528.8761,369.5149 C523.2331,373.1839 517.6021,376.8169 512.1511,380.2969 C465.4471,410.1079 412.0591,442.9609 371.9031,467.4299 \" fill=\"none\" id=\"Trest-VykonTrestu\" style=\"stroke:#181818;stroke-width:1.0;\"/><text fill=\"#000000\" font-family=\"sans-serif\" font-size=\"13\" lengthAdjust=\"spacing\" textLength=\"83\" x=\"464.1511\" y=\"423.3638\">Vykonava se</text></g><!--link Room to Rozvrh--><g id=\"link_Room_Rozvrh\"><path codeLine=\"69\" d=\"M92.4504,372.3379 C60.4437,456.9849 6,638.0059 61.1511,777.2969 C72.73,806.5409 94.9572,833.4829 115.6185,854.0744 \" fill=\"none\" id=\"Room-Rozvrh\" style=\"stroke:#181818;stroke-width:1.0;\"/><text fill=\"#000000\" font-family=\"sans-serif\" font-size=\"13\" lengthAdjust=\"spacing\" textLength=\"96\" x=\"41.1511\" y=\"597.3638\">Kde se nachazi</text></g><!--link Room to VykonTrestu--><g id=\"link_Room_VykonTrestu\"><path codeLine=\"71\" d=\"M142.4841,372.3409 C155.5321,390.7249 171.7761,411.1729 189.1511,427.2969 C199.4371,436.8419 224.0501,452.9649 248.4111,468.0409 \" fill=\"none\" id=\"Room-VykonTrestu\" style=\"stroke:#181818;stroke-width:1.0;\"/><text fill=\"#000000\" font-family=\"sans-serif\" font-size=\"13\" lengthAdjust=\"spacing\" textLength=\"96\" x=\"190.1511\" y=\"423.3638\">Kde se nachazi</text></g><!--link Zamestnanec to Pozice--><g id=\"link_Zamestnanec_Pozice\"><path codeLine=\"73\" d=\"M362.0481,190.3959 C381.7471,225.1239 404.3371,264.9479 419.5541,291.7739 \" fill=\"none\" id=\"Zamestnanec-Pozice\" style=\"stroke:#181818;stroke-width:1.0;\"/><text fill=\"#000000\" font-family=\"sans-serif\" font-size=\"13\" lengthAdjust=\"spacing\" textLength=\"143\" x=\"387.1511\" y=\"233.3638\">Zamestnany na pozici</text></g><!--link Zamestnanec to Room--><g id=\"link_Zamestnanec_Room\"><path codeLine=\"75\" d=\"M247.4651,190.3959 C218.7901,218.4549 186.7141,249.8399 160.9911,275.0079 \" fill=\"none\" id=\"Zamestnanec-Room\" style=\"stroke:#181818;stroke-width:1.0;\"/><text fill=\"#000000\" font-family=\"sans-serif\" font-size=\"13\" lengthAdjust=\"spacing\" textLength=\"96\" x=\"218.1511\" y=\"233.3638\">Kde se nachazi</text></g><!--link Cip to VykonTrestu--><g id=\"link_Cip_VykonTrestu\"><path codeLine=\"77\" d=\"M286.7351,364.2989 C291.2881,391.6199 297.3721,428.1199 302.1961,457.0699 \" fill=\"none\" id=\"Cip-VykonTrestu\" style=\"stroke:#181818;stroke-width:1.0;\"/><text fill=\"#000000\" font-family=\"sans-serif\" font-size=\"13\" lengthAdjust=\"spacing\" textLength=\"83\" x=\"298.1511\" y=\"423.3638\">Vykonava se</text></g><!--link OcekavanaPoloha to Rozvrh--><g id=\"link_OcekavanaPoloha_Rozvrh\"><path codeLine=\"79\" d=\"M328.9071,752.9309 C312.4461,775.9969 290.9631,803.1939 268.1511,824.2969 C252.5631,838.7175 233.6651,852.1418 216.1671,863.2719 \" fill=\"none\" id=\"OcekavanaPoloha-Rozvrh\" style=\"stroke:#181818;stroke-width:1.0;\"/><text fill=\"#000000\" font-family=\"sans-serif\" font-size=\"13\" lengthAdjust=\"spacing\" textLength=\"96\" x=\"284.1511\" y=\"820.3638\">Kde se nachazi</text></g><!--link Monitoring to Prisoner--><g id=\"link_Monitoring_Prisoner\"><path codeLine=\"81\" d=\"M158.6261,530.1099 C159.1311,554.9149 159.9551,595.4109 160.6791,631.0079 \" fill=\"none\" id=\"Monitoring-Prisoner\" style=\"stroke:#181818;stroke-width:1.0;\"/><text fill=\"#000000\" font-family=\"sans-serif\" font-size=\"13\" lengthAdjust=\"spacing\" textLength=\"96\" x=\"161.1511\" y=\"597.3638\">Kde se nachazi</text></g><!--SRC=[pLF1ReCm3BtdAtAV-WDSjzlK3NLL3xkvmHjH8KQ9GO9f_xu41WM2gasxZEFBy_FpipbgBZ2HUsgmHCEItcHgjIE3LWYX2d1E7gXhR2u_XFJVdNnXgysxP5tY4ic0KNoELQFCkix0kixLDWRFsdB-41HZE2r0RU5FTNdslXSFa6KMdRlwEhKNCaUFSRssbaNjuY6vhVeXlzLweIYQmFcrSbPRO4rcfduWAgFyDePKK87It6vR7RHUVSIE3HXK_sqbANLQuQQhYNElgvyaiPpvMU456Z2GKa4v_6NVqpdlTkCFaSZ73AL3xrJbq6aXvhVbULDDCboTjo8vl0ent8tdp4jcD8T2zDk_rMuaB3NMhFdYWwaXxEHw4AtdoYh0CRjl4Mk6RTmslux-rXnxCfgfZtkPsfBu1G00]--></g></svg>"
     },
     "execution_count": 15,
     "metadata": {},
     "output_type": "execute_result"
    }
   ],
   "source": [
    "%%plantuml\n",
    "@startuml\n",
    "\n",
    "Title: Movement of Prisoner\n",
    "\n",
    "\n",
    "class Rozvrh {\n",
    "    + String time\n",
    "    + String date\n",
    "}\n",
    "\n",
    "class Prisoner {\n",
    "    + String name\n",
    "    + String surname\n",
    "    + String birthDate\n",
    "    + String birthPlace\n",
    "    + String birthNumber\n",
    "    + String address\n",
    "}\n",
    "\n",
    "class VykonTrestu {\n",
    "    + String date\n",
    "    + String time\n",
    "    + String type\n",
    "}\n",
    "\n",
    "\n",
    "class Trest {\n",
    "    + String type\n",
    "    + String date\n",
    "    + String time\n",
    "    + String duration\n",
    "}\n",
    "\n",
    "\n",
    "class Room {\n",
    "    + String number\n",
    "    + String capacity\n",
    "    + String type\n",
    "}\n",
    "\n",
    "class Zamestnanec {\n",
    "    + String name\n",
    "    + String surname\n",
    "    + String birthDate\n",
    "    + String birthPlace\n",
    "    + String birthNumber\n",
    "    + String address\n",
    "}\n",
    "\n",
    "class Pozice {\n",
    "    + String name\n",
    "}\n",
    "\n",
    "class Cip {\n",
    "    + String number\n",
    "    + String type\n",
    "}\n",
    "\n",
    "class OcekavanaPoloha {\n",
    "    + String date\n",
    "    + String time\n",
    "    + String type\n",
    "}\n",
    "\n",
    "Prisoner -- Rozvrh : Kde se nachazi\n",
    "\n",
    "VykonTrestu -- Prisoner : Vykonava trest\n",
    "\n",
    "Trest -- VykonTrestu : Vykonava se\n",
    "\n",
    "Room -- Rozvrh : Kde se nachazi\n",
    "\n",
    "Room -- VykonTrestu : Kde se nachazi\n",
    "\n",
    "Zamestnanec -- Pozice : Zamestnany na pozici\n",
    "\n",
    "Zamestnanec -- Room : Kde se nachazi\n",
    "\n",
    "Cip -- VykonTrestu : Vykonava se\n",
    "\n",
    "OcekavanaPoloha -- Rozvrh : Kde se nachazi\n",
    "\n",
    "Monitoring -- Prisoner : Kde se nachazi\n",
    "\n",
    "@enduml\n"
   ],
   "metadata": {
    "collapsed": false,
    "ExecuteTime": {
     "end_time": "2023-11-15T16:18:54.890882500Z",
     "start_time": "2023-11-15T16:18:52.414584400Z"
    }
   },
   "id": "7f15dc7177136cab"
  },
  {
   "cell_type": "code",
   "execution_count": null,
   "outputs": [],
   "source": [],
   "metadata": {
    "collapsed": false
   },
   "id": "878fad6d14eb08f6"
  }
 ],
 "metadata": {
  "kernelspec": {
   "display_name": "Python 3",
   "language": "python",
   "name": "python3"
  },
  "language_info": {
   "codemirror_mode": {
    "name": "ipython",
    "version": 2
   },
   "file_extension": ".py",
   "mimetype": "text/x-python",
   "name": "python",
   "nbconvert_exporter": "python",
   "pygments_lexer": "ipython2",
   "version": "2.7.6"
  }
 },
 "nbformat": 4,
 "nbformat_minor": 5
}
